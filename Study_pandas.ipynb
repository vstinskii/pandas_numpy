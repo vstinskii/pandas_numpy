{
 "cells": [
  {
   "cell_type": "markdown",
   "id": "c06dbcc1-05de-4f60-a8b1-b9126d7f3728",
   "metadata": {},
   "source": [
    "# Pandas Tutorial"
   ]
  },
  {
   "cell_type": "code",
   "execution_count": 88,
   "id": "5768c58c-4943-4968-a8fa-bb8724e95a1c",
   "metadata": {},
   "outputs": [],
   "source": [
    "import numpy as np\n",
    "import pandas as pd"
   ]
  },
  {
   "cell_type": "markdown",
   "id": "7e570cde-5b0d-403b-80a8-71abdb022ea7",
   "metadata": {},
   "source": [
    "## Series"
   ]
  },
  {
   "cell_type": "code",
   "execution_count": 162,
   "id": "3dd759fe-3547-4038-8d98-3784ce1a85c9",
   "metadata": {},
   "outputs": [],
   "source": [
    "s_list_1 = ['a', 'b', 'c', 'd']\n",
    "indexes = np.arange(1, 5)"
   ]
  },
  {
   "cell_type": "code",
   "execution_count": 90,
   "id": "91c63e60-558e-4506-9317-ddfab21122f7",
   "metadata": {},
   "outputs": [
    {
     "data": {
      "text/plain": [
       "1    a\n",
       "2    b\n",
       "3    c\n",
       "4    d\n",
       "dtype: object"
      ]
     },
     "execution_count": 90,
     "metadata": {},
     "output_type": "execute_result"
    }
   ],
   "source": [
    "#Creating series. It's something similar to hashmap in Java\n",
    "s_ser_1 = pd.Series(data=s_list_1, index=indexes)\n",
    "s_ser_1"
   ]
  },
  {
   "cell_type": "code",
   "execution_count": 91,
   "id": "6bc42e81-cf55-4a79-a357-9151dac16798",
   "metadata": {
    "scrolled": true
   },
   "outputs": [
    {
     "data": {
      "text/plain": [
       "0    1\n",
       "1    2\n",
       "2    3\n",
       "3    4\n",
       "4    5\n",
       "dtype: int64"
      ]
     },
     "execution_count": 91,
     "metadata": {},
     "output_type": "execute_result"
    }
   ],
   "source": [
    "#Creating array by np array without indexes. In this case indexes will be nums from 0 to arr.length()\n",
    "arr = np.array([1, 2, 3, 4, 5])\n",
    "s_ser_2 = pd.Series(arr)\n",
    "s_ser_2"
   ]
  },
  {
   "cell_type": "code",
   "execution_count": 92,
   "id": "ba3bba4a-6cd7-4295-8248-3efc2dcf189b",
   "metadata": {},
   "outputs": [
    {
     "data": {
      "text/plain": [
       "f_name     Vitalii\n",
       "l_name    Stinskii\n",
       "age             22\n",
       "dtype: object"
      ]
     },
     "execution_count": 92,
     "metadata": {},
     "output_type": "execute_result"
    }
   ],
   "source": [
    "#Creating series from dictionary\n",
    "dict_1 = {'f_name': \"Vitalii\", 'l_name': \"Stinskii\", 'age': 22}\n",
    "s_ser_3 = pd.Series(dict_1)\n",
    "s_ser_3"
   ]
  },
  {
   "cell_type": "code",
   "execution_count": 93,
   "id": "b2777c59-6307-4eca-a4bc-6fc385e6ddcb",
   "metadata": {},
   "outputs": [
    {
     "data": {
      "text/plain": [
       "'Vitalii'"
      ]
     },
     "execution_count": 93,
     "metadata": {},
     "output_type": "execute_result"
    }
   ],
   "source": [
    "#Get data from series\n",
    "s_ser_3['f_name']"
   ]
  },
  {
   "cell_type": "code",
   "execution_count": 94,
   "id": "28daa339-8381-4da7-b3c4-471c3cb35e9a",
   "metadata": {},
   "outputs": [
    {
     "data": {
      "text/plain": [
       "0     1\n",
       "1     4\n",
       "2     9\n",
       "3    16\n",
       "4    25\n",
       "dtype: int64"
      ]
     },
     "execution_count": 94,
     "metadata": {},
     "output_type": "execute_result"
    }
   ],
   "source": [
    "#Basic math with series +-*/ . Math operation will be apply only on data, but not on indexes\n",
    "s_ser_2 * s_ser_2"
   ]
  },
  {
   "cell_type": "code",
   "execution_count": 95,
   "id": "b0c4f234-5326-42e6-8484-7c07dd4de6c0",
   "metadata": {},
   "outputs": [
    {
     "data": {
      "text/plain": [
       "0      2.718282\n",
       "1      7.389056\n",
       "2     20.085537\n",
       "3     54.598150\n",
       "4    148.413159\n",
       "dtype: float64"
      ]
     },
     "execution_count": 95,
     "metadata": {},
     "output_type": "execute_result"
    }
   ],
   "source": [
    "#Using series with NumPy methods\n",
    "np.exp(s_ser_2)"
   ]
  },
  {
   "cell_type": "code",
   "execution_count": 96,
   "id": "3eb68167-fa20-4e35-98bc-38d8ef12c0af",
   "metadata": {},
   "outputs": [
    {
     "name": "stdout",
     "output_type": "stream",
     "text": [
      "s_ser_2:\n",
      " 0    1\n",
      "1    2\n",
      "2    3\n",
      "3    4\n",
      "4    5\n",
      "dtype: int64\n"
     ]
    },
    {
     "data": {
      "text/plain": [
       "0     NaN\n",
       "1     NaN\n",
       "2     NaN\n",
       "3     NaN\n",
       "4    10.0\n",
       "5     NaN\n",
       "6     NaN\n",
       "7     NaN\n",
       "dtype: float64"
      ]
     },
     "execution_count": 96,
     "metadata": {},
     "output_type": "execute_result"
    }
   ],
   "source": [
    "#The main difference between np arrays and pd series is that math operations apply by indexes. \n",
    "#In case when ser1 have index1 but ser2 doesn't have index1 the result of math operation will be NaN\n",
    "s_ser_4 = pd.Series({4: 5, 5: 6, 6: 7, 7: 8})\n",
    "print(\"s_ser_2:\\n\", s_ser_2)\n",
    "s_ser_2 + s_ser_4"
   ]
  },
  {
   "cell_type": "code",
   "execution_count": 97,
   "id": "9310292a-e5dd-4e4e-9dcd-c4666a1c1655",
   "metadata": {},
   "outputs": [
    {
     "data": {
      "text/plain": [
       "'rand_nums'"
      ]
     },
     "execution_count": 97,
     "metadata": {},
     "output_type": "execute_result"
    }
   ],
   "source": [
    "#We can add a name to the series\n",
    "s_ser_5 = pd.Series({4: 5, 5: 6, 6: 7, 7: 8}, name='rand_nums')\n",
    "s_ser_5.name"
   ]
  },
  {
   "cell_type": "markdown",
   "id": "2dd60b3d-9be1-4e30-8702-6e2a4023dea8",
   "metadata": {},
   "source": [
    "## DataFrames"
   ]
  },
  {
   "cell_type": "code",
   "execution_count": 98,
   "id": "f2d61785-3438-4da8-9ed4-417209132010",
   "metadata": {},
   "outputs": [],
   "source": [
    "df_arr_1 = np.random.randint(10, 50, size=(2, 3))"
   ]
  },
  {
   "cell_type": "code",
   "execution_count": 99,
   "id": "67c69405-a689-49f7-ab04-891ff3277d59",
   "metadata": {},
   "outputs": [
    {
     "data": {
      "text/html": [
       "<div>\n",
       "<style scoped>\n",
       "    .dataframe tbody tr th:only-of-type {\n",
       "        vertical-align: middle;\n",
       "    }\n",
       "\n",
       "    .dataframe tbody tr th {\n",
       "        vertical-align: top;\n",
       "    }\n",
       "\n",
       "    .dataframe thead th {\n",
       "        text-align: right;\n",
       "    }\n",
       "</style>\n",
       "<table border=\"1\" class=\"dataframe\">\n",
       "  <thead>\n",
       "    <tr style=\"text-align: right;\">\n",
       "      <th></th>\n",
       "      <th>C</th>\n",
       "      <th>D</th>\n",
       "      <th>E</th>\n",
       "    </tr>\n",
       "  </thead>\n",
       "  <tbody>\n",
       "    <tr>\n",
       "      <th>A</th>\n",
       "      <td>15</td>\n",
       "      <td>47</td>\n",
       "      <td>45</td>\n",
       "    </tr>\n",
       "    <tr>\n",
       "      <th>B</th>\n",
       "      <td>36</td>\n",
       "      <td>19</td>\n",
       "      <td>43</td>\n",
       "    </tr>\n",
       "  </tbody>\n",
       "</table>\n",
       "</div>"
      ],
      "text/plain": [
       "    C   D   E\n",
       "A  15  47  45\n",
       "B  36  19  43"
      ]
     },
     "execution_count": 99,
     "metadata": {},
     "output_type": "execute_result"
    }
   ],
   "source": [
    "#Creating dataFrame <array>, <row_names>, <column_names>\n",
    "df_1 = pd.DataFrame(df_arr_1, ['A', 'B'], ['C', 'D', 'E'])\n",
    "df_1"
   ]
  },
  {
   "cell_type": "code",
   "execution_count": 100,
   "id": "b32955f3-0332-4c41-af4e-b20a353a632a",
   "metadata": {},
   "outputs": [
    {
     "data": {
      "text/html": [
       "<div>\n",
       "<style scoped>\n",
       "    .dataframe tbody tr th:only-of-type {\n",
       "        vertical-align: middle;\n",
       "    }\n",
       "\n",
       "    .dataframe tbody tr th {\n",
       "        vertical-align: top;\n",
       "    }\n",
       "\n",
       "    .dataframe thead th {\n",
       "        text-align: right;\n",
       "    }\n",
       "</style>\n",
       "<table border=\"1\" class=\"dataframe\">\n",
       "  <thead>\n",
       "    <tr style=\"text-align: right;\">\n",
       "      <th></th>\n",
       "      <th>one</th>\n",
       "      <th>two</th>\n",
       "    </tr>\n",
       "  </thead>\n",
       "  <tbody>\n",
       "    <tr>\n",
       "      <th>a</th>\n",
       "      <td>1.0</td>\n",
       "      <td>1.0</td>\n",
       "    </tr>\n",
       "    <tr>\n",
       "      <th>b</th>\n",
       "      <td>2.0</td>\n",
       "      <td>2.0</td>\n",
       "    </tr>\n",
       "    <tr>\n",
       "      <th>c</th>\n",
       "      <td>3.0</td>\n",
       "      <td>3.0</td>\n",
       "    </tr>\n",
       "    <tr>\n",
       "      <th>d</th>\n",
       "      <td>NaN</td>\n",
       "      <td>4.0</td>\n",
       "    </tr>\n",
       "  </tbody>\n",
       "</table>\n",
       "</div>"
      ],
      "text/plain": [
       "   one  two\n",
       "a  1.0  1.0\n",
       "b  2.0  2.0\n",
       "c  3.0  3.0\n",
       "d  NaN  4.0"
      ]
     },
     "execution_count": 100,
     "metadata": {},
     "output_type": "execute_result"
    }
   ],
   "source": [
    "#Creating df from dictionary. In case when we have disbalaced matrix in empty places will be NaN\n",
    "df_dict_1 = {'one': pd.Series([1., 2., 3.,], index=['a','b','c']),\n",
    "            'two': pd.Series([1., 2., 3., 4.], index=['a','b','c','d'])}\n",
    "df_2 = pd.DataFrame(df_dict_1)\n",
    "df_2"
   ]
  },
  {
   "cell_type": "code",
   "execution_count": 101,
   "id": "cc04caa6-3bcc-4f41-859d-01557d6615f0",
   "metadata": {},
   "outputs": [
    {
     "data": {
      "text/html": [
       "<div>\n",
       "<style scoped>\n",
       "    .dataframe tbody tr th:only-of-type {\n",
       "        vertical-align: middle;\n",
       "    }\n",
       "\n",
       "    .dataframe tbody tr th {\n",
       "        vertical-align: top;\n",
       "    }\n",
       "\n",
       "    .dataframe thead th {\n",
       "        text-align: right;\n",
       "    }\n",
       "</style>\n",
       "<table border=\"1\" class=\"dataframe\">\n",
       "  <thead>\n",
       "    <tr style=\"text-align: right;\">\n",
       "      <th></th>\n",
       "      <th>A</th>\n",
       "      <th>B</th>\n",
       "    </tr>\n",
       "  </thead>\n",
       "  <tbody>\n",
       "    <tr>\n",
       "      <th>0</th>\n",
       "      <td>1</td>\n",
       "      <td>4</td>\n",
       "    </tr>\n",
       "    <tr>\n",
       "      <th>1</th>\n",
       "      <td>2</td>\n",
       "      <td>5</td>\n",
       "    </tr>\n",
       "    <tr>\n",
       "      <th>2</th>\n",
       "      <td>3</td>\n",
       "      <td>6</td>\n",
       "    </tr>\n",
       "  </tbody>\n",
       "</table>\n",
       "</div>"
      ],
      "text/plain": [
       "   A  B\n",
       "0  1  4\n",
       "1  2  5\n",
       "2  3  6"
      ]
     },
     "execution_count": 101,
     "metadata": {},
     "output_type": "execute_result"
    }
   ],
   "source": [
    "#Creating df from dict that created in the same method\n",
    "pd.DataFrame.from_dict(dict([('A', [1,2,3]), ('B', [4,5,6])]))"
   ]
  },
  {
   "cell_type": "code",
   "execution_count": 102,
   "id": "7742b4e4-ffe5-4a00-9f96-433e4c74d7ac",
   "metadata": {},
   "outputs": [
    {
     "data": {
      "text/html": [
       "<div>\n",
       "<style scoped>\n",
       "    .dataframe tbody tr th:only-of-type {\n",
       "        vertical-align: middle;\n",
       "    }\n",
       "\n",
       "    .dataframe tbody tr th {\n",
       "        vertical-align: top;\n",
       "    }\n",
       "\n",
       "    .dataframe thead th {\n",
       "        text-align: right;\n",
       "    }\n",
       "</style>\n",
       "<table border=\"1\" class=\"dataframe\">\n",
       "  <thead>\n",
       "    <tr style=\"text-align: right;\">\n",
       "      <th></th>\n",
       "      <th>one</th>\n",
       "      <th>two</th>\n",
       "      <th>three</th>\n",
       "    </tr>\n",
       "  </thead>\n",
       "  <tbody>\n",
       "    <tr>\n",
       "      <th>A</th>\n",
       "      <td>1</td>\n",
       "      <td>2</td>\n",
       "      <td>3</td>\n",
       "    </tr>\n",
       "    <tr>\n",
       "      <th>B</th>\n",
       "      <td>4</td>\n",
       "      <td>5</td>\n",
       "      <td>6</td>\n",
       "    </tr>\n",
       "  </tbody>\n",
       "</table>\n",
       "</div>"
      ],
      "text/plain": [
       "   one  two  three\n",
       "A    1    2      3\n",
       "B    4    5      6"
      ]
     },
     "execution_count": 102,
     "metadata": {},
     "output_type": "execute_result"
    }
   ],
   "source": [
    "#Creating df from dict that created in the same method. Assign keys as row and column labels\n",
    "pd.DataFrame.from_dict(dict([('A', [1,2,3]), ('B', [4,5,6])]),\n",
    "                      orient='index', columns=['one','two','three'])"
   ]
  },
  {
   "cell_type": "code",
   "execution_count": 103,
   "id": "3d9446d3-8977-40a5-8b11-116faed9d95d",
   "metadata": {},
   "outputs": [
    {
     "data": {
      "text/plain": [
       "(4, 2)"
      ]
     },
     "execution_count": 103,
     "metadata": {},
     "output_type": "execute_result"
    }
   ],
   "source": [
    "#Get md length of df\n",
    "np.shape(df_2)"
   ]
  },
  {
   "cell_type": "markdown",
   "id": "a0885104-9a7f-4061-b33e-ef5b6742c484",
   "metadata": {},
   "source": [
    "## Editing & Retrieving Data"
   ]
  },
  {
   "cell_type": "code",
   "execution_count": 104,
   "id": "298a646b-1a5e-4f7f-ab1b-fb12df09a5ab",
   "metadata": {},
   "outputs": [
    {
     "name": "stdout",
     "output_type": "stream",
     "text": [
      "df_1:\n",
      "     C   D   E\n",
      "A  15  47  45\n",
      "B  36  19  43\n"
     ]
    },
    {
     "data": {
      "text/plain": [
       "A    15\n",
       "B    36\n",
       "Name: C, dtype: int64"
      ]
     },
     "execution_count": 104,
     "metadata": {},
     "output_type": "execute_result"
    }
   ],
   "source": [
    "#Get the column\n",
    "print(\"df_1:\\n\", df_1)\n",
    "df_1['C']"
   ]
  },
  {
   "cell_type": "code",
   "execution_count": 105,
   "id": "a02441b9-8a4b-464b-ac99-8e95cd855b3a",
   "metadata": {},
   "outputs": [
    {
     "name": "stdout",
     "output_type": "stream",
     "text": [
      "df_1:\n",
      "     C   D   E\n",
      "A  15  47  45\n",
      "B  36  19  43\n"
     ]
    },
    {
     "data": {
      "text/html": [
       "<div>\n",
       "<style scoped>\n",
       "    .dataframe tbody tr th:only-of-type {\n",
       "        vertical-align: middle;\n",
       "    }\n",
       "\n",
       "    .dataframe tbody tr th {\n",
       "        vertical-align: top;\n",
       "    }\n",
       "\n",
       "    .dataframe thead th {\n",
       "        text-align: right;\n",
       "    }\n",
       "</style>\n",
       "<table border=\"1\" class=\"dataframe\">\n",
       "  <thead>\n",
       "    <tr style=\"text-align: right;\">\n",
       "      <th></th>\n",
       "      <th>C</th>\n",
       "      <th>D</th>\n",
       "    </tr>\n",
       "  </thead>\n",
       "  <tbody>\n",
       "    <tr>\n",
       "      <th>A</th>\n",
       "      <td>15</td>\n",
       "      <td>47</td>\n",
       "    </tr>\n",
       "    <tr>\n",
       "      <th>B</th>\n",
       "      <td>36</td>\n",
       "      <td>19</td>\n",
       "    </tr>\n",
       "  </tbody>\n",
       "</table>\n",
       "</div>"
      ],
      "text/plain": [
       "    C   D\n",
       "A  15  47\n",
       "B  36  19"
      ]
     },
     "execution_count": 105,
     "metadata": {},
     "output_type": "execute_result"
    }
   ],
   "source": [
    "#Get the columns\n",
    "print(\"df_1:\\n\", df_1)\n",
    "df_1[['C','D']]"
   ]
  },
  {
   "cell_type": "code",
   "execution_count": 106,
   "id": "881ad6ac-68c9-493d-b666-a1556e0c7701",
   "metadata": {},
   "outputs": [
    {
     "name": "stdout",
     "output_type": "stream",
     "text": [
      "df_1:\n",
      "     C   D   E\n",
      "A  15  47  45\n",
      "B  36  19  43\n"
     ]
    },
    {
     "data": {
      "text/plain": [
       "C    15\n",
       "D    47\n",
       "E    45\n",
       "Name: A, dtype: int64"
      ]
     },
     "execution_count": 106,
     "metadata": {},
     "output_type": "execute_result"
    }
   ],
   "source": [
    "#Get row as a series\n",
    "print(\"df_1:\\n\", df_1)\n",
    "df_1.loc['A']"
   ]
  },
  {
   "cell_type": "code",
   "execution_count": 107,
   "id": "cd7fdfd9-9a66-4778-a765-dd46e582aa2c",
   "metadata": {},
   "outputs": [
    {
     "name": "stdout",
     "output_type": "stream",
     "text": [
      "df_1:\n",
      "     C   D   E\n",
      "A  15  47  45\n",
      "B  36  19  43\n"
     ]
    },
    {
     "data": {
      "text/plain": [
       "C    36\n",
       "D    19\n",
       "E    43\n",
       "Name: B, dtype: int64"
      ]
     },
     "execution_count": 107,
     "metadata": {},
     "output_type": "execute_result"
    }
   ],
   "source": [
    "#Grab row by index position\n",
    "print(\"df_1:\\n\", df_1)\n",
    "df_1.iloc[1]"
   ]
  },
  {
   "cell_type": "code",
   "execution_count": 108,
   "id": "1163e68f-ed88-4b7a-ad6d-15caf1ba8448",
   "metadata": {},
   "outputs": [
    {
     "name": "stdout",
     "output_type": "stream",
     "text": [
      "df_1:\n",
      "     C   D   E\n",
      "A  15  47  45\n",
      "B  36  19  43\n"
     ]
    },
    {
     "data": {
      "text/plain": [
       "15"
      ]
     },
     "execution_count": 108,
     "metadata": {},
     "output_type": "execute_result"
    }
   ],
   "source": [
    "#Grab element (cell) by a row and a column\n",
    "print(\"df_1:\\n\", df_1)\n",
    "df_1.loc['A','C']"
   ]
  },
  {
   "cell_type": "code",
   "execution_count": 109,
   "id": "4da59d9f-1ce4-45a8-bfda-5e5708b670f7",
   "metadata": {},
   "outputs": [
    {
     "name": "stdout",
     "output_type": "stream",
     "text": [
      "df_1:\n",
      "     C   D   E\n",
      "A  15  47  45\n",
      "B  36  19  43\n"
     ]
    },
    {
     "data": {
      "text/html": [
       "<div>\n",
       "<style scoped>\n",
       "    .dataframe tbody tr th:only-of-type {\n",
       "        vertical-align: middle;\n",
       "    }\n",
       "\n",
       "    .dataframe tbody tr th {\n",
       "        vertical-align: top;\n",
       "    }\n",
       "\n",
       "    .dataframe thead th {\n",
       "        text-align: right;\n",
       "    }\n",
       "</style>\n",
       "<table border=\"1\" class=\"dataframe\">\n",
       "  <thead>\n",
       "    <tr style=\"text-align: right;\">\n",
       "      <th></th>\n",
       "      <th>C</th>\n",
       "      <th>D</th>\n",
       "    </tr>\n",
       "  </thead>\n",
       "  <tbody>\n",
       "    <tr>\n",
       "      <th>A</th>\n",
       "      <td>15</td>\n",
       "      <td>47</td>\n",
       "    </tr>\n",
       "    <tr>\n",
       "      <th>B</th>\n",
       "      <td>36</td>\n",
       "      <td>19</td>\n",
       "    </tr>\n",
       "  </tbody>\n",
       "</table>\n",
       "</div>"
      ],
      "text/plain": [
       "    C   D\n",
       "A  15  47\n",
       "B  36  19"
      ]
     },
     "execution_count": 109,
     "metadata": {},
     "output_type": "execute_result"
    }
   ],
   "source": [
    "#Get the spesific rows and columns\n",
    "print(\"df_1:\\n\", df_1)\n",
    "df_1.loc[['A','B'],['C','D']]"
   ]
  },
  {
   "cell_type": "code",
   "execution_count": 110,
   "id": "70516e09-928e-4a46-a815-03bb178430b4",
   "metadata": {},
   "outputs": [
    {
     "data": {
      "text/html": [
       "<div>\n",
       "<style scoped>\n",
       "    .dataframe tbody tr th:only-of-type {\n",
       "        vertical-align: middle;\n",
       "    }\n",
       "\n",
       "    .dataframe tbody tr th {\n",
       "        vertical-align: top;\n",
       "    }\n",
       "\n",
       "    .dataframe thead th {\n",
       "        text-align: right;\n",
       "    }\n",
       "</style>\n",
       "<table border=\"1\" class=\"dataframe\">\n",
       "  <thead>\n",
       "    <tr style=\"text-align: right;\">\n",
       "      <th></th>\n",
       "      <th>C</th>\n",
       "      <th>D</th>\n",
       "      <th>E</th>\n",
       "      <th>Total</th>\n",
       "    </tr>\n",
       "  </thead>\n",
       "  <tbody>\n",
       "    <tr>\n",
       "      <th>A</th>\n",
       "      <td>15</td>\n",
       "      <td>47</td>\n",
       "      <td>45</td>\n",
       "      <td>107</td>\n",
       "    </tr>\n",
       "    <tr>\n",
       "      <th>B</th>\n",
       "      <td>36</td>\n",
       "      <td>19</td>\n",
       "      <td>43</td>\n",
       "      <td>98</td>\n",
       "    </tr>\n",
       "  </tbody>\n",
       "</table>\n",
       "</div>"
      ],
      "text/plain": [
       "    C   D   E  Total\n",
       "A  15  47  45    107\n",
       "B  36  19  43     98"
      ]
     },
     "execution_count": 110,
     "metadata": {},
     "output_type": "execute_result"
    }
   ],
   "source": [
    "#Add new column like sum of all the columns\n",
    "df_1['Total'] = df_1['C'] + df_1['D'] + df_1['E']\n",
    "df_1"
   ]
  },
  {
   "cell_type": "code",
   "execution_count": 111,
   "id": "1c6eb07b-a025-437a-8fe7-03563af4010f",
   "metadata": {},
   "outputs": [
    {
     "data": {
      "text/html": [
       "<div>\n",
       "<style scoped>\n",
       "    .dataframe tbody tr th:only-of-type {\n",
       "        vertical-align: middle;\n",
       "    }\n",
       "\n",
       "    .dataframe tbody tr th {\n",
       "        vertical-align: top;\n",
       "    }\n",
       "\n",
       "    .dataframe thead th {\n",
       "        text-align: right;\n",
       "    }\n",
       "</style>\n",
       "<table border=\"1\" class=\"dataframe\">\n",
       "  <thead>\n",
       "    <tr style=\"text-align: right;\">\n",
       "      <th></th>\n",
       "      <th>one</th>\n",
       "      <th>two</th>\n",
       "      <th>mult</th>\n",
       "    </tr>\n",
       "  </thead>\n",
       "  <tbody>\n",
       "    <tr>\n",
       "      <th>a</th>\n",
       "      <td>1.0</td>\n",
       "      <td>1.0</td>\n",
       "      <td>2.0</td>\n",
       "    </tr>\n",
       "    <tr>\n",
       "      <th>b</th>\n",
       "      <td>2.0</td>\n",
       "      <td>2.0</td>\n",
       "      <td>4.0</td>\n",
       "    </tr>\n",
       "    <tr>\n",
       "      <th>c</th>\n",
       "      <td>3.0</td>\n",
       "      <td>3.0</td>\n",
       "      <td>6.0</td>\n",
       "    </tr>\n",
       "    <tr>\n",
       "      <th>d</th>\n",
       "      <td>NaN</td>\n",
       "      <td>4.0</td>\n",
       "      <td>NaN</td>\n",
       "    </tr>\n",
       "  </tbody>\n",
       "</table>\n",
       "</div>"
      ],
      "text/plain": [
       "   one  two  mult\n",
       "a  1.0  1.0   2.0\n",
       "b  2.0  2.0   4.0\n",
       "c  3.0  3.0   6.0\n",
       "d  NaN  4.0   NaN"
      ]
     },
     "execution_count": 111,
     "metadata": {},
     "output_type": "execute_result"
    }
   ],
   "source": [
    "#Add new column. Using multiplication to create new column\n",
    "df_2['mult'] = df_2['one'] + df_2['two']\n",
    "df_2"
   ]
  },
  {
   "cell_type": "code",
   "execution_count": 112,
   "id": "64f6de31-b36b-46e1-9ffd-e8395fcdc4c2",
   "metadata": {},
   "outputs": [
    {
     "name": "stdout",
     "output_type": "stream",
     "text": [
      "df_1:\n",
      "     C   D   E  Total\n",
      "A  15  47  45    107\n",
      "B  36  19  43     98\n"
     ]
    },
    {
     "data": {
      "text/html": [
       "<div>\n",
       "<style scoped>\n",
       "    .dataframe tbody tr th:only-of-type {\n",
       "        vertical-align: middle;\n",
       "    }\n",
       "\n",
       "    .dataframe tbody tr th {\n",
       "        vertical-align: top;\n",
       "    }\n",
       "\n",
       "    .dataframe thead th {\n",
       "        text-align: right;\n",
       "    }\n",
       "</style>\n",
       "<table border=\"1\" class=\"dataframe\">\n",
       "  <thead>\n",
       "    <tr style=\"text-align: right;\">\n",
       "      <th></th>\n",
       "      <th>C</th>\n",
       "      <th>D</th>\n",
       "      <th>E</th>\n",
       "      <th>Total</th>\n",
       "    </tr>\n",
       "  </thead>\n",
       "  <tbody>\n",
       "    <tr>\n",
       "      <th>A</th>\n",
       "      <td>15</td>\n",
       "      <td>47</td>\n",
       "      <td>45</td>\n",
       "      <td>107.0</td>\n",
       "    </tr>\n",
       "    <tr>\n",
       "      <th>B</th>\n",
       "      <td>36</td>\n",
       "      <td>19</td>\n",
       "      <td>43</td>\n",
       "      <td>98.0</td>\n",
       "    </tr>\n",
       "    <tr>\n",
       "      <th>F</th>\n",
       "      <td>44</td>\n",
       "      <td>55</td>\n",
       "      <td>46</td>\n",
       "      <td>NaN</td>\n",
       "    </tr>\n",
       "  </tbody>\n",
       "</table>\n",
       "</div>"
      ],
      "text/plain": [
       "    C   D   E  Total\n",
       "A  15  47  45  107.0\n",
       "B  36  19  43   98.0\n",
       "F  44  55  46    NaN"
      ]
     },
     "execution_count": 112,
     "metadata": {},
     "output_type": "execute_result"
    }
   ],
   "source": [
    "#Adding new row to df. Since 2.0 pandas version the append() method has been removed from DataFrame [?]\n",
    "print(\"df_1:\\n\", df_1)\n",
    "er_dict_1 = {'C': 44, 'D': 55, 'E': 46}\n",
    "df_1 = pd.concat([df_1, pd.DataFrame(er_dict_1, index=['F'])])\n",
    "df_1"
   ]
  },
  {
   "cell_type": "code",
   "execution_count": 113,
   "id": "ae70d04c-9dbb-4fec-8956-8134eb7bc4ce",
   "metadata": {},
   "outputs": [
    {
     "name": "stdout",
     "output_type": "stream",
     "text": [
      "df_1:\n",
      "     C   D   E  Total\n",
      "A  15  47  45  107.0\n",
      "B  36  19  43   98.0\n",
      "F  44  55  46    NaN\n"
     ]
    },
    {
     "data": {
      "text/html": [
       "<div>\n",
       "<style scoped>\n",
       "    .dataframe tbody tr th:only-of-type {\n",
       "        vertical-align: middle;\n",
       "    }\n",
       "\n",
       "    .dataframe tbody tr th {\n",
       "        vertical-align: top;\n",
       "    }\n",
       "\n",
       "    .dataframe thead th {\n",
       "        text-align: right;\n",
       "    }\n",
       "</style>\n",
       "<table border=\"1\" class=\"dataframe\">\n",
       "  <thead>\n",
       "    <tr style=\"text-align: right;\">\n",
       "      <th></th>\n",
       "      <th>C</th>\n",
       "      <th>D</th>\n",
       "      <th>E</th>\n",
       "      <th>Total</th>\n",
       "    </tr>\n",
       "  </thead>\n",
       "  <tbody>\n",
       "    <tr>\n",
       "      <th>A</th>\n",
       "      <td>15</td>\n",
       "      <td>47</td>\n",
       "      <td>45</td>\n",
       "      <td>107.0</td>\n",
       "    </tr>\n",
       "    <tr>\n",
       "      <th>B</th>\n",
       "      <td>36</td>\n",
       "      <td>19</td>\n",
       "      <td>43</td>\n",
       "      <td>98.0</td>\n",
       "    </tr>\n",
       "    <tr>\n",
       "      <th>F</th>\n",
       "      <td>44</td>\n",
       "      <td>55</td>\n",
       "      <td>46</td>\n",
       "      <td>NaN</td>\n",
       "    </tr>\n",
       "    <tr>\n",
       "      <th>J</th>\n",
       "      <td>1</td>\n",
       "      <td>1</td>\n",
       "      <td>1</td>\n",
       "      <td>NaN</td>\n",
       "    </tr>\n",
       "  </tbody>\n",
       "</table>\n",
       "</div>"
      ],
      "text/plain": [
       "    C   D   E  Total\n",
       "A  15  47  45  107.0\n",
       "B  36  19  43   98.0\n",
       "F  44  55  46    NaN\n",
       "J   1   1   1    NaN"
      ]
     },
     "execution_count": 113,
     "metadata": {},
     "output_type": "execute_result"
    }
   ],
   "source": [
    "#Adding new row to df using .loc\n",
    "print(\"df_1:\\n\", df_1)\n",
    "er_dict_1 = {'C': 1, 'D': 1, 'E': 1}\n",
    "df_1.loc['J'] = er_dict_1\n",
    "df_1"
   ]
  },
  {
   "cell_type": "code",
   "execution_count": 114,
   "id": "95d8c6d5-3ccf-4d49-8f5f-cd1fc486b8d4",
   "metadata": {
    "scrolled": true
   },
   "outputs": [
    {
     "name": "stdout",
     "output_type": "stream",
     "text": [
      "df_1:\n",
      "     C   D   E  Total\n",
      "A  15  47  45  107.0\n",
      "B  36  19  43   98.0\n",
      "F  44  55  46    NaN\n",
      "J   1   1   1    NaN\n"
     ]
    },
    {
     "data": {
      "text/html": [
       "<div>\n",
       "<style scoped>\n",
       "    .dataframe tbody tr th:only-of-type {\n",
       "        vertical-align: middle;\n",
       "    }\n",
       "\n",
       "    .dataframe tbody tr th {\n",
       "        vertical-align: top;\n",
       "    }\n",
       "\n",
       "    .dataframe thead th {\n",
       "        text-align: right;\n",
       "    }\n",
       "</style>\n",
       "<table border=\"1\" class=\"dataframe\">\n",
       "  <thead>\n",
       "    <tr style=\"text-align: right;\">\n",
       "      <th></th>\n",
       "      <th>C</th>\n",
       "      <th>D</th>\n",
       "      <th>E</th>\n",
       "    </tr>\n",
       "  </thead>\n",
       "  <tbody>\n",
       "    <tr>\n",
       "      <th>A</th>\n",
       "      <td>15</td>\n",
       "      <td>47</td>\n",
       "      <td>45</td>\n",
       "    </tr>\n",
       "    <tr>\n",
       "      <th>B</th>\n",
       "      <td>36</td>\n",
       "      <td>19</td>\n",
       "      <td>43</td>\n",
       "    </tr>\n",
       "    <tr>\n",
       "      <th>F</th>\n",
       "      <td>44</td>\n",
       "      <td>55</td>\n",
       "      <td>46</td>\n",
       "    </tr>\n",
       "    <tr>\n",
       "      <th>J</th>\n",
       "      <td>1</td>\n",
       "      <td>1</td>\n",
       "      <td>1</td>\n",
       "    </tr>\n",
       "  </tbody>\n",
       "</table>\n",
       "</div>"
      ],
      "text/plain": [
       "    C   D   E\n",
       "A  15  47  45\n",
       "B  36  19  43\n",
       "F  44  55  46\n",
       "J   1   1   1"
      ]
     },
     "execution_count": 114,
     "metadata": {},
     "output_type": "execute_result"
    }
   ],
   "source": [
    "#Deleting a column <name> <dm> (0-rows 1 - columns) <inplace> \n",
    "#If inplace=False the row/column won't be deleted\n",
    "print(\"df_1:\\n\", df_1)\n",
    "df_1.drop('Total', axis=1, inplace=True)\n",
    "df_1"
   ]
  },
  {
   "cell_type": "code",
   "execution_count": 124,
   "id": "58dc016a-07af-4d9d-9496-97de64337201",
   "metadata": {},
   "outputs": [
    {
     "name": "stdout",
     "output_type": "stream",
     "text": [
      "df_1:\n",
      "     C   D   E\n",
      "A  15  47  45\n",
      "B  36  19  43\n",
      "F  44  55  46\n"
     ]
    },
    {
     "data": {
      "text/html": [
       "<div>\n",
       "<style scoped>\n",
       "    .dataframe tbody tr th:only-of-type {\n",
       "        vertical-align: middle;\n",
       "    }\n",
       "\n",
       "    .dataframe tbody tr th {\n",
       "        vertical-align: top;\n",
       "    }\n",
       "\n",
       "    .dataframe thead th {\n",
       "        text-align: right;\n",
       "    }\n",
       "</style>\n",
       "<table border=\"1\" class=\"dataframe\">\n",
       "  <thead>\n",
       "    <tr style=\"text-align: right;\">\n",
       "      <th></th>\n",
       "      <th>C</th>\n",
       "      <th>D</th>\n",
       "      <th>E</th>\n",
       "    </tr>\n",
       "  </thead>\n",
       "  <tbody>\n",
       "    <tr>\n",
       "      <th>A</th>\n",
       "      <td>15</td>\n",
       "      <td>47</td>\n",
       "      <td>45</td>\n",
       "    </tr>\n",
       "    <tr>\n",
       "      <th>B</th>\n",
       "      <td>36</td>\n",
       "      <td>19</td>\n",
       "      <td>43</td>\n",
       "    </tr>\n",
       "  </tbody>\n",
       "</table>\n",
       "</div>"
      ],
      "text/plain": [
       "    C   D   E\n",
       "A  15  47  45\n",
       "B  36  19  43"
      ]
     },
     "execution_count": 124,
     "metadata": {},
     "output_type": "execute_result"
    }
   ],
   "source": [
    "#Deleting a row \n",
    "print(\"df_1:\\n\", df_1)\n",
    "df_1.drop('J', axis=0, inplace=True)\n",
    "df_1.drop('F', axis=0, inplace=True)\n",
    "df_1"
   ]
  },
  {
   "cell_type": "code",
   "execution_count": 125,
   "id": "22fdab46-5018-4d96-a354-fcd9f224aac0",
   "metadata": {},
   "outputs": [
    {
     "data": {
      "text/html": [
       "<div>\n",
       "<style scoped>\n",
       "    .dataframe tbody tr th:only-of-type {\n",
       "        vertical-align: middle;\n",
       "    }\n",
       "\n",
       "    .dataframe tbody tr th {\n",
       "        vertical-align: top;\n",
       "    }\n",
       "\n",
       "    .dataframe thead th {\n",
       "        text-align: right;\n",
       "    }\n",
       "</style>\n",
       "<table border=\"1\" class=\"dataframe\">\n",
       "  <thead>\n",
       "    <tr style=\"text-align: right;\">\n",
       "      <th></th>\n",
       "      <th>C</th>\n",
       "      <th>D</th>\n",
       "      <th>E</th>\n",
       "    </tr>\n",
       "    <tr>\n",
       "      <th>S</th>\n",
       "      <th></th>\n",
       "      <th></th>\n",
       "      <th></th>\n",
       "    </tr>\n",
       "  </thead>\n",
       "  <tbody>\n",
       "    <tr>\n",
       "      <th>Men</th>\n",
       "      <td>15</td>\n",
       "      <td>47</td>\n",
       "      <td>45</td>\n",
       "    </tr>\n",
       "    <tr>\n",
       "      <th>Woman</th>\n",
       "      <td>36</td>\n",
       "      <td>19</td>\n",
       "      <td>43</td>\n",
       "    </tr>\n",
       "  </tbody>\n",
       "</table>\n",
       "</div>"
      ],
      "text/plain": [
       "        C   D   E\n",
       "S                \n",
       "Men    15  47  45\n",
       "Woman  36  19  43"
      ]
     },
     "execution_count": 125,
     "metadata": {},
     "output_type": "execute_result"
    }
   ],
   "source": [
    "#Creating a column and setting it as index row\n",
    "df_1['S'] = ['Men','Woman']\n",
    "df_1.set_index('S', inplace=True)\n",
    "df_1"
   ]
  },
  {
   "cell_type": "code",
   "execution_count": 117,
   "id": "dd3fd696-c2b9-44fd-b2bb-ae40e2283f07",
   "metadata": {},
   "outputs": [
    {
     "data": {
      "text/html": [
       "<div>\n",
       "<style scoped>\n",
       "    .dataframe tbody tr th:only-of-type {\n",
       "        vertical-align: middle;\n",
       "    }\n",
       "\n",
       "    .dataframe tbody tr th {\n",
       "        vertical-align: top;\n",
       "    }\n",
       "\n",
       "    .dataframe thead th {\n",
       "        text-align: right;\n",
       "    }\n",
       "</style>\n",
       "<table border=\"1\" class=\"dataframe\">\n",
       "  <thead>\n",
       "    <tr style=\"text-align: right;\">\n",
       "      <th></th>\n",
       "      <th>C</th>\n",
       "      <th>D</th>\n",
       "      <th>E</th>\n",
       "    </tr>\n",
       "  </thead>\n",
       "  <tbody>\n",
       "    <tr>\n",
       "      <th>A</th>\n",
       "      <td>15</td>\n",
       "      <td>47</td>\n",
       "      <td>45</td>\n",
       "    </tr>\n",
       "    <tr>\n",
       "      <th>B</th>\n",
       "      <td>36</td>\n",
       "      <td>19</td>\n",
       "      <td>43</td>\n",
       "    </tr>\n",
       "    <tr>\n",
       "      <th>F</th>\n",
       "      <td>44</td>\n",
       "      <td>55</td>\n",
       "      <td>46</td>\n",
       "    </tr>\n",
       "  </tbody>\n",
       "</table>\n",
       "</div>"
      ],
      "text/plain": [
       "    C   D   E\n",
       "A  15  47  45\n",
       "B  36  19  43\n",
       "F  44  55  46"
      ]
     },
     "execution_count": 117,
     "metadata": {},
     "output_type": "execute_result"
    }
   ],
   "source": [
    "#Reset df indexe. Makes previous index column as common column\n",
    "#df_1.reset_index(inplace=True)\n",
    "df_1"
   ]
  },
  {
   "cell_type": "code",
   "execution_count": 118,
   "id": "e4c19400-60aa-46c1-b567-cd0b48cb76c8",
   "metadata": {},
   "outputs": [
    {
     "name": "stdout",
     "output_type": "stream",
     "text": [
      "df_2    one  two  mult\n",
      "a  1.0  1.0   2.0\n",
      "b  2.0  2.0   4.0\n",
      "c  3.0  3.0   6.0\n",
      "d  NaN  4.0   NaN\n"
     ]
    },
    {
     "data": {
      "text/html": [
       "<div>\n",
       "<style scoped>\n",
       "    .dataframe tbody tr th:only-of-type {\n",
       "        vertical-align: middle;\n",
       "    }\n",
       "\n",
       "    .dataframe tbody tr th {\n",
       "        vertical-align: top;\n",
       "    }\n",
       "\n",
       "    .dataframe thead th {\n",
       "        text-align: right;\n",
       "    }\n",
       "</style>\n",
       "<table border=\"1\" class=\"dataframe\">\n",
       "  <thead>\n",
       "    <tr style=\"text-align: right;\">\n",
       "      <th></th>\n",
       "      <th>one</th>\n",
       "      <th>two</th>\n",
       "      <th>mult</th>\n",
       "      <th>sum_pow_2</th>\n",
       "    </tr>\n",
       "  </thead>\n",
       "  <tbody>\n",
       "    <tr>\n",
       "      <th>a</th>\n",
       "      <td>1.0</td>\n",
       "      <td>1.0</td>\n",
       "      <td>2.0</td>\n",
       "      <td>4.0</td>\n",
       "    </tr>\n",
       "    <tr>\n",
       "      <th>b</th>\n",
       "      <td>2.0</td>\n",
       "      <td>2.0</td>\n",
       "      <td>4.0</td>\n",
       "      <td>16.0</td>\n",
       "    </tr>\n",
       "    <tr>\n",
       "      <th>c</th>\n",
       "      <td>3.0</td>\n",
       "      <td>3.0</td>\n",
       "      <td>6.0</td>\n",
       "      <td>36.0</td>\n",
       "    </tr>\n",
       "    <tr>\n",
       "      <th>d</th>\n",
       "      <td>NaN</td>\n",
       "      <td>4.0</td>\n",
       "      <td>NaN</td>\n",
       "      <td>NaN</td>\n",
       "    </tr>\n",
       "  </tbody>\n",
       "</table>\n",
       "</div>"
      ],
      "text/plain": [
       "   one  two  mult  sum_pow_2\n",
       "a  1.0  1.0   2.0        4.0\n",
       "b  2.0  2.0   4.0       16.0\n",
       "c  3.0  3.0   6.0       36.0\n",
       "d  NaN  4.0   NaN        NaN"
      ]
     },
     "execution_count": 118,
     "metadata": {},
     "output_type": "execute_result"
    }
   ],
   "source": [
    "#Creating row by pathing any func. For example basic math\n",
    "print('df_2', df_2) \n",
    "df_2.assign(sum_pow_2=(df_2['one'] + df_2['two'])**2)"
   ]
  },
  {
   "cell_type": "code",
   "execution_count": 119,
   "id": "fd66a70b-4f76-4b11-94b7-6168bc74f26b",
   "metadata": {},
   "outputs": [
    {
     "name": "stdout",
     "output_type": "stream",
     "text": [
      "df_2    one  two  mult\n",
      "a  1.0  1.0   2.0\n",
      "b  2.0  2.0   4.0\n",
      "c  3.0  3.0   6.0\n",
      "d  NaN  4.0   NaN\n"
     ]
    },
    {
     "data": {
      "text/html": [
       "<div>\n",
       "<style scoped>\n",
       "    .dataframe tbody tr th:only-of-type {\n",
       "        vertical-align: middle;\n",
       "    }\n",
       "\n",
       "    .dataframe tbody tr th {\n",
       "        vertical-align: top;\n",
       "    }\n",
       "\n",
       "    .dataframe thead th {\n",
       "        text-align: right;\n",
       "    }\n",
       "</style>\n",
       "<table border=\"1\" class=\"dataframe\">\n",
       "  <thead>\n",
       "    <tr style=\"text-align: right;\">\n",
       "      <th></th>\n",
       "      <th>one</th>\n",
       "      <th>two</th>\n",
       "      <th>mult</th>\n",
       "      <th>sum_pow_2</th>\n",
       "    </tr>\n",
       "  </thead>\n",
       "  <tbody>\n",
       "    <tr>\n",
       "      <th>a</th>\n",
       "      <td>1.0</td>\n",
       "      <td>1.0</td>\n",
       "      <td>2.0</td>\n",
       "      <td>1.0</td>\n",
       "    </tr>\n",
       "    <tr>\n",
       "      <th>b</th>\n",
       "      <td>2.0</td>\n",
       "      <td>2.0</td>\n",
       "      <td>4.0</td>\n",
       "      <td>4.0</td>\n",
       "    </tr>\n",
       "    <tr>\n",
       "      <th>c</th>\n",
       "      <td>3.0</td>\n",
       "      <td>3.0</td>\n",
       "      <td>6.0</td>\n",
       "      <td>9.0</td>\n",
       "    </tr>\n",
       "    <tr>\n",
       "      <th>d</th>\n",
       "      <td>NaN</td>\n",
       "      <td>4.0</td>\n",
       "      <td>NaN</td>\n",
       "      <td>NaN</td>\n",
       "    </tr>\n",
       "  </tbody>\n",
       "</table>\n",
       "</div>"
      ],
      "text/plain": [
       "   one  two  mult  sum_pow_2\n",
       "a  1.0  1.0   2.0        1.0\n",
       "b  2.0  2.0   4.0        4.0\n",
       "c  3.0  3.0   6.0        9.0\n",
       "d  NaN  4.0   NaN        NaN"
      ]
     },
     "execution_count": 119,
     "metadata": {},
     "output_type": "execute_result"
    }
   ],
   "source": [
    "#Creating row by pathing any func. For example basic math\n",
    "print('df_2', df_2) \n",
    "df_2.assign(sum_pow_2=lambda x: (x['one'] * x['two']))"
   ]
  },
  {
   "cell_type": "code",
   "execution_count": 120,
   "id": "33a9279d-9740-4728-b096-553bd5cb2009",
   "metadata": {},
   "outputs": [
    {
     "data": {
      "text/html": [
       "<div>\n",
       "<style scoped>\n",
       "    .dataframe tbody tr th:only-of-type {\n",
       "        vertical-align: middle;\n",
       "    }\n",
       "\n",
       "    .dataframe tbody tr th {\n",
       "        vertical-align: top;\n",
       "    }\n",
       "\n",
       "    .dataframe thead th {\n",
       "        text-align: right;\n",
       "    }\n",
       "</style>\n",
       "<table border=\"1\" class=\"dataframe\">\n",
       "  <thead>\n",
       "    <tr style=\"text-align: right;\">\n",
       "      <th></th>\n",
       "      <th>A</th>\n",
       "    </tr>\n",
       "  </thead>\n",
       "  <tbody>\n",
       "    <tr>\n",
       "      <th>0</th>\n",
       "      <td>1.0</td>\n",
       "    </tr>\n",
       "    <tr>\n",
       "      <th>1</th>\n",
       "      <td>9.0</td>\n",
       "    </tr>\n",
       "    <tr>\n",
       "      <th>2</th>\n",
       "      <td>3.0</td>\n",
       "    </tr>\n",
       "    <tr>\n",
       "      <th>3</th>\n",
       "      <td>4.0</td>\n",
       "    </tr>\n",
       "  </tbody>\n",
       "</table>\n",
       "</div>"
      ],
      "text/plain": [
       "     A\n",
       "0  1.0\n",
       "1  9.0\n",
       "2  3.0\n",
       "3  4.0"
      ]
     },
     "execution_count": 120,
     "metadata": {},
     "output_type": "execute_result"
    }
   ],
   "source": [
    "#Combining 2 df. If there are empy elements (nan) in df1 by column index A \n",
    "# and df2 has not empty elements by the same column and rows indexs\n",
    "# elements from the df2 fill the empty elems in df1\n",
    "er_df_1 = pd.DataFrame({'A': [1., np.nan, 3., np.nan]})\n",
    "er_df_2 = pd.DataFrame({'A': [8., 9., 2., 4.]})\n",
    "er_df_1.combine_first(er_df_2)"
   ]
  },
  {
   "cell_type": "markdown",
   "id": "98caf1bf-0ef2-43e3-afa5-b95dee906eb0",
   "metadata": {},
   "source": [
    "## Conditional Selection"
   ]
  },
  {
   "cell_type": "code",
   "execution_count": 155,
   "id": "b563afec-0534-476e-8893-6bf5d6e5fbc8",
   "metadata": {},
   "outputs": [
    {
     "data": {
      "text/html": [
       "<div>\n",
       "<style scoped>\n",
       "    .dataframe tbody tr th:only-of-type {\n",
       "        vertical-align: middle;\n",
       "    }\n",
       "\n",
       "    .dataframe tbody tr th {\n",
       "        vertical-align: top;\n",
       "    }\n",
       "\n",
       "    .dataframe thead th {\n",
       "        text-align: right;\n",
       "    }\n",
       "</style>\n",
       "<table border=\"1\" class=\"dataframe\">\n",
       "  <thead>\n",
       "    <tr style=\"text-align: right;\">\n",
       "      <th></th>\n",
       "      <th>C</th>\n",
       "      <th>D</th>\n",
       "      <th>E</th>\n",
       "    </tr>\n",
       "  </thead>\n",
       "  <tbody>\n",
       "    <tr>\n",
       "      <th>A</th>\n",
       "      <td>48</td>\n",
       "      <td>47</td>\n",
       "      <td>10</td>\n",
       "    </tr>\n",
       "    <tr>\n",
       "      <th>B</th>\n",
       "      <td>33</td>\n",
       "      <td>39</td>\n",
       "      <td>12</td>\n",
       "    </tr>\n",
       "  </tbody>\n",
       "</table>\n",
       "</div>"
      ],
      "text/plain": [
       "    C   D   E\n",
       "A  48  47  10\n",
       "B  33  39  12"
      ]
     },
     "execution_count": 155,
     "metadata": {},
     "output_type": "execute_result"
    }
   ],
   "source": [
    "cs_arr_1 = np.random.randint(10, 50, size=(2,3))\n",
    "cs_df_1 = pd.DataFrame(cs_arr_1, ['A','B'], ['C','D','E'])\n",
    "cs_arr_2 = np.array([[1,2,3], [4,5,6], [7,8,9]])\n",
    "cs_ds_2 = pd.DataFrame(cs_arr_2, ['A', 'B', 'C'], ['X', 'Y', 'Z'])\n",
    "cs_df_1"
   ]
  },
  {
   "cell_type": "code",
   "execution_count": 130,
   "id": "c515caea-e541-4121-a85e-dc3a734a458e",
   "metadata": {},
   "outputs": [
    {
     "name": "stdout",
     "output_type": "stream",
     "text": [
      "Greater than 40:\n",
      "        C      D      E\n",
      "A  False   True  False\n",
      "B   True  False  False\n"
     ]
    }
   ],
   "source": [
    "#Get the df of bool according to condition greater than 40\n",
    "print(\"Greater than 40:\\n\", cs_df_1 > 40)"
   ]
  },
  {
   "cell_type": "code",
   "execution_count": 136,
   "id": "63d09473-6801-4a4d-872a-888271b74343",
   "metadata": {},
   "outputs": [
    {
     "name": "stdout",
     "output_type": "stream",
     "text": [
      "Greater than 40:\n",
      "        C      D      E\n",
      "A  False   True  False\n",
      "B   True  False  False\n"
     ]
    }
   ],
   "source": [
    "#Get the df of bool according to condition greater than 40 in another way\n",
    "# eq - ==, ne - !=, le - <=, lt - <, ge - >=, gt - >\n",
    "print(\"Greater than 40:\\n\", cs_df_1.gt(40))"
   ]
  },
  {
   "cell_type": "code",
   "execution_count": 142,
   "id": "018b8b17-7d72-400b-87b3-f456a89a4395",
   "metadata": {},
   "outputs": [
    {
     "data": {
      "text/html": [
       "<div>\n",
       "<style scoped>\n",
       "    .dataframe tbody tr th:only-of-type {\n",
       "        vertical-align: middle;\n",
       "    }\n",
       "\n",
       "    .dataframe tbody tr th {\n",
       "        vertical-align: top;\n",
       "    }\n",
       "\n",
       "    .dataframe thead th {\n",
       "        text-align: right;\n",
       "    }\n",
       "</style>\n",
       "<table border=\"1\" class=\"dataframe\">\n",
       "  <thead>\n",
       "    <tr style=\"text-align: right;\">\n",
       "      <th></th>\n",
       "      <th>C</th>\n",
       "      <th>D</th>\n",
       "      <th>E</th>\n",
       "    </tr>\n",
       "  </thead>\n",
       "  <tbody>\n",
       "    <tr>\n",
       "      <th>A</th>\n",
       "      <td>NaN</td>\n",
       "      <td>48</td>\n",
       "      <td>31.0</td>\n",
       "    </tr>\n",
       "    <tr>\n",
       "      <th>B</th>\n",
       "      <td>49.0</td>\n",
       "      <td>32</td>\n",
       "      <td>NaN</td>\n",
       "    </tr>\n",
       "  </tbody>\n",
       "</table>\n",
       "</div>"
      ],
      "text/plain": [
       "      C   D     E\n",
       "A   NaN  48  31.0\n",
       "B  49.0  32   NaN"
      ]
     },
     "execution_count": 142,
     "metadata": {},
     "output_type": "execute_result"
    }
   ],
   "source": [
    "#Get all the elements those applies to condition >= 30. In another case an element will be replaced with NaN\n",
    "cs_bool_1 = cs_df_1 >= 30\n",
    "cs_df_1[cs_bool_1]"
   ]
  },
  {
   "cell_type": "code",
   "execution_count": 147,
   "id": "144b8057-9779-46c2-9ca3-75863247236a",
   "metadata": {},
   "outputs": [
    {
     "name": "stdout",
     "output_type": "stream",
     "text": [
      "cs_df_1:\n",
      "     C   D   E\n",
      "A  27  48  31\n",
      "B  49  32  29\n"
     ]
    },
    {
     "data": {
      "text/html": [
       "<div>\n",
       "<style scoped>\n",
       "    .dataframe tbody tr th:only-of-type {\n",
       "        vertical-align: middle;\n",
       "    }\n",
       "\n",
       "    .dataframe tbody tr th {\n",
       "        vertical-align: top;\n",
       "    }\n",
       "\n",
       "    .dataframe thead th {\n",
       "        text-align: right;\n",
       "    }\n",
       "</style>\n",
       "<table border=\"1\" class=\"dataframe\">\n",
       "  <thead>\n",
       "    <tr style=\"text-align: right;\">\n",
       "      <th></th>\n",
       "      <th>C</th>\n",
       "      <th>D</th>\n",
       "      <th>E</th>\n",
       "    </tr>\n",
       "  </thead>\n",
       "  <tbody>\n",
       "    <tr>\n",
       "      <th>A</th>\n",
       "      <td>27</td>\n",
       "      <td>48</td>\n",
       "      <td>31</td>\n",
       "    </tr>\n",
       "  </tbody>\n",
       "</table>\n",
       "</div>"
      ],
      "text/plain": [
       "    C   D   E\n",
       "A  27  48  31"
      ]
     },
     "execution_count": 147,
     "metadata": {},
     "output_type": "execute_result"
    }
   ],
   "source": [
    "#The same thing but with columns\n",
    "print(\"cs_df_1:\\n\", cs_df_1)\n",
    "cs_df_1[cs_df_1['E'] > 30]"
   ]
  },
  {
   "cell_type": "code",
   "execution_count": 153,
   "id": "60cc453b-82c3-4fd0-80dd-b29ccbeaabd3",
   "metadata": {},
   "outputs": [
    {
     "name": "stdout",
     "output_type": "stream",
     "text": [
      "    D   E\n",
      "A  48  31\n"
     ]
    }
   ],
   "source": [
    "#Get elements by the condition and get the columns specific columns\n",
    "print(cs_df_1[cs_df_1['E'] > 30][['D','E']])"
   ]
  },
  {
   "cell_type": "code",
   "execution_count": 161,
   "id": "4b6c89f7-1b01-48c0-8210-b861d4c09853",
   "metadata": {},
   "outputs": [
    {
     "name": "stdout",
     "output_type": "stream",
     "text": [
      "cs_ds_2    X  Y  Z\n",
      "A  1  2  3\n",
      "B  4  5  6\n",
      "C  7  8  9\n"
     ]
    },
    {
     "data": {
      "text/html": [
       "<div>\n",
       "<style scoped>\n",
       "    .dataframe tbody tr th:only-of-type {\n",
       "        vertical-align: middle;\n",
       "    }\n",
       "\n",
       "    .dataframe tbody tr th {\n",
       "        vertical-align: top;\n",
       "    }\n",
       "\n",
       "    .dataframe thead th {\n",
       "        text-align: right;\n",
       "    }\n",
       "</style>\n",
       "<table border=\"1\" class=\"dataframe\">\n",
       "  <thead>\n",
       "    <tr style=\"text-align: right;\">\n",
       "      <th></th>\n",
       "      <th>X</th>\n",
       "      <th>Y</th>\n",
       "      <th>Z</th>\n",
       "    </tr>\n",
       "  </thead>\n",
       "  <tbody>\n",
       "    <tr>\n",
       "      <th>B</th>\n",
       "      <td>4</td>\n",
       "      <td>5</td>\n",
       "      <td>6</td>\n",
       "    </tr>\n",
       "  </tbody>\n",
       "</table>\n",
       "</div>"
      ],
      "text/plain": [
       "   X  Y  Z\n",
       "B  4  5  6"
      ]
     },
     "execution_count": 161,
     "metadata": {},
     "output_type": "execute_result"
    }
   ],
   "source": [
    "#Multiple conditions\n",
    "print(\"cs_ds_2\", cs_ds_2)\n",
    "cs_ds_2[(cs_ds_2['X']>3) & (cs_ds_2['X']<7)]"
   ]
  },
  {
   "cell_type": "code",
   "execution_count": null,
   "id": "47202c1f-159c-48a7-898e-8f9598a96d1c",
   "metadata": {},
   "outputs": [],
   "source": []
  }
 ],
 "metadata": {
  "kernelspec": {
   "display_name": "Python 3 (ipykernel)",
   "language": "python",
   "name": "python3"
  },
  "language_info": {
   "codemirror_mode": {
    "name": "ipython",
    "version": 3
   },
   "file_extension": ".py",
   "mimetype": "text/x-python",
   "name": "python",
   "nbconvert_exporter": "python",
   "pygments_lexer": "ipython3",
   "version": "3.11.5"
  }
 },
 "nbformat": 4,
 "nbformat_minor": 5
}
