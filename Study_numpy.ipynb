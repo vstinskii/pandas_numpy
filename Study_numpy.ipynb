{
 "cells": [
  {
   "cell_type": "markdown",
   "id": "01962779-be8c-4546-937f-395b4032ba6f",
   "metadata": {},
   "source": [
    "# Numpylib Tutorial"
   ]
  },
  {
   "cell_type": "code",
   "execution_count": 4,
   "id": "0a032a6d-a452-412b-a206-c99c882b9f91",
   "metadata": {},
   "outputs": [],
   "source": [
    "import numpy as np\n",
    "import matplotlib.pylab as plt\n",
    "from numpy import random"
   ]
  },
  {
   "cell_type": "markdown",
   "id": "54f37be4-cbc9-4473-807c-82313e67eb47",
   "metadata": {},
   "source": [
    "## Numpy Arrays: Creating arrays"
   ]
  },
  {
   "cell_type": "code",
   "execution_count": 5,
   "id": "01f3fdfc-e150-4471-afda-6d37cc73721d",
   "metadata": {
    "scrolled": true
   },
   "outputs": [
    {
     "data": {
      "text/plain": [
       "9"
      ]
     },
     "execution_count": 5,
     "metadata": {},
     "output_type": "execute_result"
    }
   ],
   "source": [
    "list_1 = [1,2,3,4,5]\n",
    "np_arr_1 = np.array(list_1, dtype=np.int8)\n",
    "np_arr_1\n",
    "\n",
    "#Multydimensional array\n",
    "m_list_1 = [[1,2,3],[4,5,6],[7,8,9]]\n",
    "np_m_arr_1 = np.array(m_list_1)\n",
    "np_m_arr_1\n",
    "np_m_arr_1.size # 9"
   ]
  },
  {
   "cell_type": "code",
   "execution_count": 6,
   "id": "b7eb81f6-4c6d-493c-b10e-9d2194a7d9e5",
   "metadata": {},
   "outputs": [
    {
     "data": {
      "text/plain": [
       "array([1, 3, 5, 7, 9])"
      ]
     },
     "execution_count": 6,
     "metadata": {},
     "output_type": "execute_result"
    }
   ],
   "source": [
    "#Generate array in range with spesific spet\n",
    "np.arange(1,10,2)"
   ]
  },
  {
   "cell_type": "code",
   "execution_count": 7,
   "id": "25533ceb-26d3-4796-893d-798d151d2841",
   "metadata": {},
   "outputs": [
    {
     "data": {
      "text/plain": [
       "array([0.        , 0.55555556, 1.11111111, 1.66666667, 2.22222222,\n",
       "       2.77777778, 3.33333333, 3.88888889, 4.44444444, 5.        ])"
      ]
     },
     "execution_count": 7,
     "metadata": {},
     "output_type": "execute_result"
    }
   ],
   "source": [
    "#Generate float array in range with spesific count of steps (array length)\n",
    "np.linspace(0,5,10)"
   ]
  },
  {
   "cell_type": "code",
   "execution_count": 8,
   "id": "7ed8dd4e-c007-4206-983e-3d28c31fa4d8",
   "metadata": {},
   "outputs": [
    {
     "data": {
      "text/plain": [
       "array([0., 0., 0., 0., 0.])"
      ]
     },
     "execution_count": 8,
     "metadata": {},
     "output_type": "execute_result"
    }
   ],
   "source": [
    "#Generate array that contains zeros with spesific length\n",
    "np.zeros(5)"
   ]
  },
  {
   "cell_type": "code",
   "execution_count": 9,
   "id": "c11afaed-884e-452e-923c-8fed471b0d8a",
   "metadata": {},
   "outputs": [
    {
     "data": {
      "text/plain": [
       "array([[1., 1., 1.],\n",
       "       [1., 1., 1.]])"
      ]
     },
     "execution_count": 9,
     "metadata": {},
     "output_type": "execute_result"
    }
   ],
   "source": [
    "#Generate multidimesional (md) array that contains number 1:\n",
    "#  array([[1., 1., 1.],\n",
    "#         [1., 1., 1.]])\n",
    "np.ones((2,3))\n",
    "\n",
    "#Get additional info about the function\n",
    "#np.random.randint?"
   ]
  },
  {
   "cell_type": "code",
   "execution_count": 10,
   "id": "086dd124-31e1-4062-b985-58fff7b575f4",
   "metadata": {},
   "outputs": [
    {
     "data": {
      "text/plain": [
       "array([38, 32, 29, 46, 16])"
      ]
     },
     "execution_count": 10,
     "metadata": {},
     "output_type": "execute_result"
    }
   ],
   "source": [
    "#Generate array with random elements and spesific length\n",
    "np.random.randint(10, 50, 5)"
   ]
  },
  {
   "cell_type": "code",
   "execution_count": 11,
   "id": "03cd5a8c-1c9d-4172-b145-4fb28167d830",
   "metadata": {},
   "outputs": [
    {
     "data": {
      "text/plain": [
       "array([[39, 20, 42, 40, 39],\n",
       "       [29, 19, 27, 40, 30],\n",
       "       [21, 27, 24, 45, 45],\n",
       "       [43, 19, 48, 42, 16],\n",
       "       [14, 22, 30, 33, 17]])"
      ]
     },
     "execution_count": 11,
     "metadata": {},
     "output_type": "execute_result"
    }
   ],
   "source": [
    "#Generate md array\n",
    "np.random.randint(10, 50, size=(5,5))"
   ]
  },
  {
   "cell_type": "markdown",
   "id": "dae67fa7-a92d-4b94-b987-e101c6d83c9b",
   "metadata": {},
   "source": [
    "## Slicing & Indexes"
   ]
  },
  {
   "cell_type": "code",
   "execution_count": 12,
   "id": "b63b5c15-9a30-4153-b149-38c6ff406314",
   "metadata": {
    "scrolled": true
   },
   "outputs": [
    {
     "data": {
      "text/plain": [
       "array([[2, 2, 3],\n",
       "       [5, 5, 6],\n",
       "       [7, 8, 9]])"
      ]
     },
     "execution_count": 12,
     "metadata": {},
     "output_type": "execute_result"
    }
   ],
   "source": [
    "#Changing the elements in dm array by 2 ways\n",
    "np_m_arr_2 = np.array([[1,2,3],[4,5,6],[7,8,9]])\n",
    "np_m_arr_2[0,0] = 2\n",
    "np_m_arr_2.itemset((1,0), 5)\n",
    "np_m_arr_2"
   ]
  },
  {
   "cell_type": "code",
   "execution_count": 13,
   "id": "c97bd827-1958-4e77-996e-b3a3bf145008",
   "metadata": {},
   "outputs": [
    {
     "data": {
      "text/plain": [
       "(3, 3)"
      ]
     },
     "execution_count": 13,
     "metadata": {},
     "output_type": "execute_result"
    }
   ],
   "source": [
    "#Get the md length of the array\n",
    "np_m_arr_2.shape"
   ]
  },
  {
   "cell_type": "code",
   "execution_count": 14,
   "id": "765c8470-1976-4bb2-aeff-94e78b510fa5",
   "metadata": {},
   "outputs": [
    {
     "name": "stdout",
     "output_type": "stream",
     "text": [
      "np_m_arr_2:\n",
      " [[2 2 3]\n",
      " [5 5 6]\n",
      " [7 8 9]]\n"
     ]
    }
   ],
   "source": [
    "#Get the spesific element by id using different ways\n",
    "np_m_arr_2[0,0]\n",
    "np_m_arr_2.item(1,0)\n",
    "\n",
    "print(\"np_m_arr_2:\\n\", np_m_arr_2)"
   ]
  },
  {
   "cell_type": "code",
   "execution_count": 15,
   "id": "889ca5b2-905e-4b28-bf25-f761d65024a8",
   "metadata": {},
   "outputs": [
    {
     "data": {
      "text/plain": [
       "array([2, 5, 7])"
      ]
     },
     "execution_count": 15,
     "metadata": {},
     "output_type": "execute_result"
    }
   ],
   "source": [
    "#Getting the elements from the md array by spesific indexes \n",
    "#When you take elements from md array [[1,2,3,],[4,5,6],[7,8,9]] the indexes will be 0,1,2..,9\n",
    "np.take(np_m_arr_2, [0,3,6])"
   ]
  },
  {
   "cell_type": "code",
   "execution_count": 16,
   "id": "fb603998-19d3-4dcf-9f21-520fa992d84a",
   "metadata": {},
   "outputs": [
    {
     "data": {
      "text/plain": [
       "array([[10,  2,  3],\n",
       "       [10,  5,  6],\n",
       "       [10,  8,  9]])"
      ]
     },
     "execution_count": 16,
     "metadata": {},
     "output_type": "execute_result"
    }
   ],
   "source": [
    "#Putting new values to the md array by indexes <arr> <indexes> <new_values>\n",
    "np.put(np_m_arr_2, [0,3,6], [10,10,10])\n",
    "\n",
    "np_m_arr_2"
   ]
  },
  {
   "cell_type": "code",
   "execution_count": 17,
   "id": "06469311-403c-4452-98f2-840284126b4f",
   "metadata": {},
   "outputs": [
    {
     "data": {
      "text/plain": [
       "array([1, 3, 5], dtype=int8)"
      ]
     },
     "execution_count": 17,
     "metadata": {},
     "output_type": "execute_result"
    }
   ],
   "source": [
    "#Slicing the array\n",
    "np_arr_1[:5:2]"
   ]
  },
  {
   "cell_type": "code",
   "execution_count": 18,
   "id": "37257eae-2618-4b9f-af7e-966e518d3556",
   "metadata": {},
   "outputs": [
    {
     "data": {
      "text/plain": [
       "array([3, 6, 9])"
      ]
     },
     "execution_count": 18,
     "metadata": {},
     "output_type": "execute_result"
    }
   ],
   "source": [
    "#Slicing the md array. Getting the second element from each row\n",
    "np_m_arr_2[:,2]"
   ]
  },
  {
   "cell_type": "code",
   "execution_count": 19,
   "id": "b01ca634-be96-48dc-b4c2-a9163f601b4f",
   "metadata": {},
   "outputs": [
    {
     "data": {
      "text/plain": [
       "array([[10,  8,  9],\n",
       "       [10,  5,  6],\n",
       "       [10,  2,  3]])"
      ]
     },
     "execution_count": 19,
     "metadata": {},
     "output_type": "execute_result"
    }
   ],
   "source": [
    "#Flip array\n",
    "np_m_arr_2[::-1]"
   ]
  },
  {
   "cell_type": "code",
   "execution_count": 20,
   "id": "5d5554c0-8f81-488f-a2a3-63227fdd8ec0",
   "metadata": {},
   "outputs": [
    {
     "data": {
      "text/plain": [
       "array([10,  2, 10,  6, 10,  8])"
      ]
     },
     "execution_count": 20,
     "metadata": {},
     "output_type": "execute_result"
    }
   ],
   "source": [
    "#===============================================================\n",
    "#Condition\n",
    "#Get all evens\n",
    "evens = np_m_arr_2[np_m_arr_2%2==0]\n",
    "evens"
   ]
  },
  {
   "cell_type": "code",
   "execution_count": 21,
   "id": "b8dda133-f8c7-43cb-9fbe-2dfa53a5ea3d",
   "metadata": {},
   "outputs": [
    {
     "data": {
      "text/plain": [
       "array([ 2,  3,  5,  6,  8,  9, 10])"
      ]
     },
     "execution_count": 21,
     "metadata": {},
     "output_type": "execute_result"
    }
   ],
   "source": [
    "#Get by the follow conditions\n",
    "np_m_arr_2[np_m_arr_2 > 5]\n",
    "np_m_arr_2[(np_m_arr_2 > 5) & (np_m_arr_2 < 9)]\n",
    "\n",
    "np.unique(np_m_arr_2)"
   ]
  },
  {
   "cell_type": "markdown",
   "id": "a12b1ff7-0944-4d12-a6d6-7a522e204839",
   "metadata": {},
   "source": [
    "## Reshaping Arrays"
   ]
  },
  {
   "cell_type": "code",
   "execution_count": 22,
   "id": "6621fbdd-5f67-4901-ad05-ec5aba61397b",
   "metadata": {},
   "outputs": [
    {
     "name": "stdout",
     "output_type": "stream",
     "text": [
      "np_m_arr_2:\n",
      " [[10  2  3]\n",
      " [10  5  6]\n",
      " [10  8  9]]\n"
     ]
    },
    {
     "data": {
      "text/plain": [
       "array([[10,  2,  3, 10,  5,  6, 10,  8,  9]])"
      ]
     },
     "execution_count": 22,
     "metadata": {},
     "output_type": "execute_result"
    }
   ],
   "source": [
    "print(\"np_m_arr_2:\\n\", np_m_arr_2)\n",
    "\n",
    "#Reshape md array to [[e1,e2,e3,...en]] array\n",
    "np_m_arr_2.reshape((1,9)) # why not just (1,9)?"
   ]
  },
  {
   "cell_type": "code",
   "execution_count": 23,
   "id": "7f064f90-b6d6-4177-8bac-46813ec244c5",
   "metadata": {},
   "outputs": [
    {
     "data": {
      "text/plain": [
       "array([[10,  2,  3, 10,  5],\n",
       "       [ 6, 10,  8,  9, 10]])"
      ]
     },
     "execution_count": 23,
     "metadata": {},
     "output_type": "execute_result"
    }
   ],
   "source": [
    "#Resize md array\n",
    "#If specify resizing with bigger amount of elements that is in the original md array \n",
    "#the function will fill the rest elements by duplicate elements from start of the array\n",
    "np.resize(np_m_arr_2, (2,5))"
   ]
  },
  {
   "cell_type": "code",
   "execution_count": 24,
   "id": "ee672253-a394-4502-b1a0-74e29882787c",
   "metadata": {},
   "outputs": [
    {
     "data": {
      "text/plain": [
       "array([[10, 10, 10],\n",
       "       [ 2,  5,  8],\n",
       "       [ 3,  6,  9]])"
      ]
     },
     "execution_count": 24,
     "metadata": {},
     "output_type": "execute_result"
    }
   ],
   "source": [
    "#Transpose md array\n",
    "np_m_arr_2.transpose()"
   ]
  },
  {
   "cell_type": "code",
   "execution_count": 25,
   "id": "5e95cecc-254a-4d36-ab36-6ebba9200737",
   "metadata": {},
   "outputs": [
    {
     "data": {
      "text/plain": [
       "array([[10, 10, 10],\n",
       "       [ 2,  5,  8],\n",
       "       [ 3,  6,  9]])"
      ]
     },
     "execution_count": 25,
     "metadata": {},
     "output_type": "execute_result"
    }
   ],
   "source": [
    "#Similar to transpose work but limited by swapping 2 specified axes \n",
    "np_m_arr_2.swapaxes(0,1)"
   ]
  },
  {
   "cell_type": "code",
   "execution_count": 26,
   "id": "362be35e-a37b-436b-88de-0f2df770aefa",
   "metadata": {},
   "outputs": [
    {
     "data": {
      "text/plain": [
       "array([10,  2,  3, 10,  5,  6, 10,  8,  9])"
      ]
     },
     "execution_count": 26,
     "metadata": {},
     "output_type": "execute_result"
    }
   ],
   "source": [
    "#Flatten [*]\n",
    "np_m_arr_2.flatten()"
   ]
  },
  {
   "cell_type": "code",
   "execution_count": 27,
   "id": "d7cc6433-a8f8-4486-8837-4fa7abcfc9df",
   "metadata": {},
   "outputs": [
    {
     "data": {
      "text/plain": [
       "array([10, 10, 10,  2,  5,  8,  3,  6,  9])"
      ]
     },
     "execution_count": 27,
     "metadata": {},
     "output_type": "execute_result"
    }
   ],
   "source": [
    "#By F condition\n",
    "np_m_arr_2.flatten('F')"
   ]
  },
  {
   "cell_type": "code",
   "execution_count": 28,
   "id": "6c924718-612e-4970-ae10-359f68e2174c",
   "metadata": {},
   "outputs": [
    {
     "data": {
      "text/plain": [
       "array([[ 2,  3, 10],\n",
       "       [ 5,  6, 10],\n",
       "       [ 8,  9, 10]])"
      ]
     },
     "execution_count": 28,
     "metadata": {},
     "output_type": "execute_result"
    }
   ],
   "source": [
    "#Sort of md array\n",
    "np_m_arr_2.sort(axis=1)\n",
    "np_m_arr_2"
   ]
  },
  {
   "cell_type": "markdown",
   "id": "df2091fb-ad93-4c01-8549-abf9a5741c6e",
   "metadata": {},
   "source": [
    "## Stacking & Spitting"
   ]
  },
  {
   "cell_type": "code",
   "execution_count": 29,
   "id": "179d3069-2e3e-4358-b0e6-1e931af17329",
   "metadata": {},
   "outputs": [
    {
     "name": "stdout",
     "output_type": "stream",
     "text": [
      "arr_1:\n",
      "[[7 6]\n",
      " [9 3]]\n",
      "arr_1:\n",
      "[[5 9]\n",
      " [2 7]]\n"
     ]
    }
   ],
   "source": [
    "ss_arr_1 = np.random.randint(10, size=(2,2))\n",
    "print(f\"arr_1:\\n{ss_arr_1}\") \n",
    "ss_arr_2 = np.random.randint(10, size=(2,2))\n",
    "ss_arr_5 = np.random.randint(10, size=(2,10))\n",
    "ss_arr_6 = np.random.randint(10, size=(10,2))\n",
    "print(f\"arr_1:\\n{ss_arr_2}\") "
   ]
  },
  {
   "cell_type": "code",
   "execution_count": 30,
   "id": "8be3dc2e-78df-4f68-930e-ba55133606ad",
   "metadata": {},
   "outputs": [
    {
     "data": {
      "text/plain": [
       "array([[7, 6],\n",
       "       [9, 3],\n",
       "       [5, 9],\n",
       "       [2, 7]])"
      ]
     },
     "execution_count": 30,
     "metadata": {},
     "output_type": "execute_result"
    }
   ],
   "source": [
    "#Vertical stack of 2 md arrays\n",
    "np.vstack((ss_arr_1, ss_arr_2))"
   ]
  },
  {
   "cell_type": "code",
   "execution_count": 31,
   "id": "c28aa28b-0d86-44df-82c2-a27eaa97bb71",
   "metadata": {},
   "outputs": [
    {
     "data": {
      "text/plain": [
       "array([[7, 6, 5, 9],\n",
       "       [9, 3, 2, 7]])"
      ]
     },
     "execution_count": 31,
     "metadata": {},
     "output_type": "execute_result"
    }
   ],
   "source": [
    "#Horizontal stack of 2 md arrays\n",
    "np.hstack((ss_arr_1, ss_arr_2))"
   ]
  },
  {
   "cell_type": "code",
   "execution_count": 32,
   "id": "2fd9c5f5-a565-4f14-b31f-7efdbf1ebf41",
   "metadata": {},
   "outputs": [
    {
     "name": "stdout",
     "output_type": "stream",
     "text": [
      "[[7 6]]\n",
      "[[5 9]]\n"
     ]
    }
   ],
   "source": [
    "#Row or column deleting params(<md_array>, <delete_id>, <d>):\n",
    "#d - is the dimension. In case of 2d array 0 - rows, 1 - colums\n",
    "ss_arr_3 = np.delete(ss_arr_1, 1, 0)\n",
    "print(ss_arr_3)\n",
    "ss_arr_4 = np.delete(ss_arr_2, 1, 0)\n",
    "print(ss_arr_4)"
   ]
  },
  {
   "cell_type": "code",
   "execution_count": 33,
   "id": "59eec04e-9804-4d51-a8bf-12338c1c769c",
   "metadata": {},
   "outputs": [
    {
     "data": {
      "text/plain": [
       "array([[7, 6, 5, 9]])"
      ]
     },
     "execution_count": 33,
     "metadata": {},
     "output_type": "execute_result"
    }
   ],
   "source": [
    "#Stack arrays by column\n",
    "np.column_stack((ss_arr_3, ss_arr_4))"
   ]
  },
  {
   "cell_type": "code",
   "execution_count": 34,
   "id": "41f4c3e3-d93d-44ee-95b0-f8b21f868554",
   "metadata": {},
   "outputs": [
    {
     "data": {
      "text/plain": [
       "array([[7, 6],\n",
       "       [5, 9]])"
      ]
     },
     "execution_count": 34,
     "metadata": {},
     "output_type": "execute_result"
    }
   ],
   "source": [
    "#Stack arrays by rows\n",
    "np.row_stack((ss_arr_3, ss_arr_4))"
   ]
  },
  {
   "cell_type": "code",
   "execution_count": 35,
   "id": "cc7c41d5-70e1-47f1-acad-5eae0a495963",
   "metadata": {},
   "outputs": [
    {
     "name": "stdout",
     "output_type": "stream",
     "text": [
      "ss_arr_5\n",
      " [[8 3 7 2 5 7 5 0 5 8]\n",
      " [9 3 3 5 1 6 0 6 0 7]]\n"
     ]
    },
    {
     "data": {
      "text/plain": [
       "[array([[8, 3],\n",
       "        [9, 3]]),\n",
       " array([[7, 2],\n",
       "        [3, 5]]),\n",
       " array([[5, 7],\n",
       "        [1, 6]]),\n",
       " array([[5, 0],\n",
       "        [0, 6]]),\n",
       " array([[5, 8],\n",
       "        [0, 7]])]"
      ]
     },
     "execution_count": 35,
     "metadata": {},
     "output_type": "execute_result"
    }
   ],
   "source": [
    "#Horizontaly splitting: <md_array>, <split_by_num>\n",
    "print(\"ss_arr_5\\n\", ss_arr_5)\n",
    "np.hsplit(ss_arr_5, 5)"
   ]
  },
  {
   "cell_type": "code",
   "execution_count": 36,
   "id": "60670d71-f9e0-45d3-ac16-03c6d19cf4f0",
   "metadata": {},
   "outputs": [
    {
     "name": "stdout",
     "output_type": "stream",
     "text": [
      "ss_arr_5\n",
      " [[8 3 7 2 5 7 5 0 5 8]\n",
      " [9 3 3 5 1 6 0 6 0 7]]\n"
     ]
    },
    {
     "data": {
      "text/plain": [
       "[array([[8, 3, 7],\n",
       "        [9, 3, 3]]),\n",
       " array([[2],\n",
       "        [5]]),\n",
       " array([[5, 7],\n",
       "        [1, 6]]),\n",
       " array([[5, 0, 5, 8],\n",
       "        [0, 6, 0, 7]])]"
      ]
     },
     "execution_count": 36,
     "metadata": {},
     "output_type": "execute_result"
    }
   ],
   "source": [
    "#Horizontaly splitting by custom sizes: <md_array>, <split_by_num> <h1, h2, h3...hn>\n",
    "#Custom indexes usage example:\n",
    "# arr:\n",
    "# [[1 2 1 9 5 2]\n",
    "# [9 6 9 6 6 4]]\n",
    "# np.hsplit(arr, (3, 4))\n",
    "#\n",
    "# Output:\n",
    "# [array([[1, 2, 1],\n",
    "#        [9, 6, 9]]),\n",
    "# array([[9],\n",
    "#        [6]]),\n",
    "# array([[5, 2],\n",
    "#        [6, 4]]),\n",
    "#\n",
    "print(\"ss_arr_5\\n\", ss_arr_5)\n",
    "np.hsplit(ss_arr_5, (3, 4, 6))"
   ]
  },
  {
   "cell_type": "code",
   "execution_count": 37,
   "id": "780aa216-7a16-4095-a7d6-876ae0ecfb48",
   "metadata": {},
   "outputs": [
    {
     "name": "stdout",
     "output_type": "stream",
     "text": [
      "ss_arr_6\n",
      " [[8 4]\n",
      " [8 4]\n",
      " [3 4]\n",
      " [1 2]\n",
      " [8 8]\n",
      " [5 9]\n",
      " [4 9]\n",
      " [1 0]\n",
      " [5 9]\n",
      " [1 5]]\n"
     ]
    },
    {
     "data": {
      "text/plain": [
       "[array([[8, 4],\n",
       "        [8, 4]]),\n",
       " array([[3, 4],\n",
       "        [1, 2]]),\n",
       " array([[8, 8],\n",
       "        [5, 9]]),\n",
       " array([[4, 9],\n",
       "        [1, 0]]),\n",
       " array([[5, 9],\n",
       "        [1, 5]])]"
      ]
     },
     "execution_count": 37,
     "metadata": {},
     "output_type": "execute_result"
    }
   ],
   "source": [
    "#Verticaly splitting: <md_array>, <split_by_num>\n",
    "print(\"ss_arr_6\\n\", ss_arr_6)\n",
    "np.vsplit(ss_arr_6, 5)"
   ]
  },
  {
   "cell_type": "code",
   "execution_count": 38,
   "id": "23b15d4c-1660-49b7-8803-de543daaee33",
   "metadata": {},
   "outputs": [
    {
     "name": "stdout",
     "output_type": "stream",
     "text": [
      "ss_arr_6\n",
      " [[8 4]\n",
      " [8 4]\n",
      " [3 4]\n",
      " [1 2]\n",
      " [8 8]\n",
      " [5 9]\n",
      " [4 9]\n",
      " [1 0]\n",
      " [5 9]\n",
      " [1 5]]\n"
     ]
    },
    {
     "data": {
      "text/plain": [
       "[array([[8, 4],\n",
       "        [8, 4]]),\n",
       " array([[3, 4],\n",
       "        [1, 2]]),\n",
       " array([[8, 8]]),\n",
       " array([[5, 9],\n",
       "        [4, 9],\n",
       "        [1, 0],\n",
       "        [5, 9],\n",
       "        [1, 5]])]"
      ]
     },
     "execution_count": 38,
     "metadata": {},
     "output_type": "execute_result"
    }
   ],
   "source": [
    "#Verticaly splitting by custom sizes: <md_array>, <split_by_num> <h1, h2, h3...hn>\n",
    "print(\"ss_arr_6\\n\", ss_arr_6)\n",
    "np.vsplit(ss_arr_6, (2,4,5))"
   ]
  },
  {
   "cell_type": "markdown",
   "id": "aee1b6e4-2b21-4c91-9e8c-12056a13b633",
   "metadata": {},
   "source": [
    "## Copying"
   ]
  },
  {
   "cell_type": "code",
   "execution_count": 39,
   "id": "64158f23-ec15-4cab-b586-b661ee53d696",
   "metadata": {},
   "outputs": [
    {
     "name": "stdout",
     "output_type": "stream",
     "text": [
      "cp_arr_1\n",
      " [[5 8]\n",
      " [6 9]]\n"
     ]
    }
   ],
   "source": [
    "cp_arr_1 = np.random.randint(10, size=(2,2))\n",
    "print(\"cp_arr_1\\n\", cp_arr_1)"
   ]
  },
  {
   "cell_type": "code",
   "execution_count": 40,
   "id": "53426e3c-bb74-4303-ac1a-fd3bde1ca8c0",
   "metadata": {},
   "outputs": [
    {
     "data": {
      "text/plain": [
       "array([[5, 8],\n",
       "       [6, 9]])"
      ]
     },
     "execution_count": 40,
     "metadata": {},
     "output_type": "execute_result"
    }
   ],
   "source": [
    "#Copying arr1 to arr2. In the case of using '=' both variables will be attached to one array.\n",
    "cp_arr_2 = cp_arr_1.copy()\n",
    "cp_arr_2"
   ]
  },
  {
   "cell_type": "code",
   "execution_count": 41,
   "id": "9b02969a-f083-4632-820f-475999393af0",
   "metadata": {},
   "outputs": [
    {
     "name": "stdout",
     "output_type": "stream",
     "text": [
      "cp_arr_1\n",
      " [[5 8]\n",
      " [6 9]]\n",
      "\n",
      "copying...\n",
      "\n",
      " cp_arr_3\n",
      " [[1 8]\n",
      " [6 9]]\n",
      "cp_arr_1\n",
      " [[1 8]\n",
      " [6 9]]\n"
     ]
    }
   ],
   "source": [
    "#The .view() method doesn't working for copying. Both variables attach to the same array.\n",
    "print(\"cp_arr_1\\n\", cp_arr_1)\n",
    "cp_arr_3 = cp_arr_1.view()\n",
    "cp_arr_3[0,0] = 1\n",
    "#cp_arr_3.flatten('F')\n",
    "\n",
    "print(\"\\ncopying...\\n\\n cp_arr_3\\n\", cp_arr_3)\n",
    "print(\"cp_arr_1\\n\", cp_arr_1)"
   ]
  },
  {
   "cell_type": "markdown",
   "id": "4d73fd8e-850f-4b4f-87f2-441b6517ed49",
   "metadata": {},
   "source": [
    "## Basic Math"
   ]
  },
  {
   "cell_type": "code",
   "execution_count": 42,
   "id": "fd0a0bb8-1c34-40af-b954-0f495cc7fc0d",
   "metadata": {},
   "outputs": [],
   "source": [
    "bm_arr_1 = np.array([1,2,3,4])\n",
    "bm_arr_2 = np.array([2,4,6,9])\n",
    "\n",
    "bm_arr_3 = np.array([[1, 2], [3, 4]])\n",
    "bm_arr_4 = np.array([[2, 4], [6, 9]])\n",
    "bm_arr_5 = np.random.randint(10, size=(5,3))"
   ]
  },
  {
   "cell_type": "code",
   "execution_count": 43,
   "id": "99f46795-231d-4544-b542-0ca19ea40adb",
   "metadata": {},
   "outputs": [
    {
     "data": {
      "text/plain": [
       "array([ 2,  8, 18, 36])"
      ]
     },
     "execution_count": 43,
     "metadata": {},
     "output_type": "execute_result"
    }
   ],
   "source": [
    "#Basic math: + - * /\n",
    "bm_arr_1 * bm_arr_2"
   ]
  },
  {
   "cell_type": "code",
   "execution_count": 44,
   "id": "e87807cd-581b-466f-839e-cf649b8c7664",
   "metadata": {},
   "outputs": [
    {
     "data": {
      "text/plain": [
       "array([0.57112109, 0.40221961, 0.89833053, 0.48922434, 0.78518344])"
      ]
     },
     "execution_count": 44,
     "metadata": {},
     "output_type": "execute_result"
    }
   ],
   "source": [
    "#Random float array < 1\n",
    "random.rand(5)"
   ]
  },
  {
   "cell_type": "code",
   "execution_count": 45,
   "id": "d955d4f7-c7ef-4943-9437-c0d973143101",
   "metadata": {},
   "outputs": [
    {
     "data": {
      "text/plain": [
       "2"
      ]
     },
     "execution_count": 45,
     "metadata": {},
     "output_type": "execute_result"
    }
   ],
   "source": [
    "#Get random element from array\n",
    "random.choice(bm_arr_1)"
   ]
  },
  {
   "cell_type": "code",
   "execution_count": 46,
   "id": "b7a6e832-a001-4ccb-af2f-5d9bc04ea0b9",
   "metadata": {},
   "outputs": [
    {
     "name": "stdout",
     "output_type": "stream",
     "text": [
      "bm_arr_1:\n",
      " [1 2 3 4]\n"
     ]
    },
    {
     "data": {
      "text/plain": [
       "10"
      ]
     },
     "execution_count": 46,
     "metadata": {},
     "output_type": "execute_result"
    }
   ],
   "source": [
    "#Sum of row axis = dm\n",
    "print(\"bm_arr_1:\\n\", bm_arr_1)\n",
    "bm_arr_1.sum(axis=0)"
   ]
  },
  {
   "cell_type": "code",
   "execution_count": 47,
   "id": "f58f488f-e166-4007-92b6-680142c42cb7",
   "metadata": {},
   "outputs": [
    {
     "name": "stdout",
     "output_type": "stream",
     "text": [
      "bm_arr_4:\n",
      " [[2 4]\n",
      " [6 9]]\n"
     ]
    },
    {
     "data": {
      "text/plain": [
       "array([[ 2,  6],\n",
       "       [ 6, 15]])"
      ]
     },
     "execution_count": 47,
     "metadata": {},
     "output_type": "execute_result"
    }
   ],
   "source": [
    "#Cumulative\n",
    "print(\"bm_arr_4:\\n\", bm_arr_4)\n",
    "bm_arr_4.cumsum(axis=1)"
   ]
  },
  {
   "cell_type": "code",
   "execution_count": 48,
   "id": "014a9fad-4aa9-471e-a1e5-430e67d7b4b6",
   "metadata": {},
   "outputs": [
    {
     "name": "stdout",
     "output_type": "stream",
     "text": [
      "bm_arr_4:\n",
      " [[2 4]\n",
      " [6 9]]\n"
     ]
    },
    {
     "data": {
      "text/plain": [
       "array([6, 9])"
      ]
     },
     "execution_count": 48,
     "metadata": {},
     "output_type": "execute_result"
    }
   ],
   "source": [
    "#Max min\n",
    "print(\"bm_arr_4:\\n\", bm_arr_4)\n",
    "bm_arr_4.max(axis=0)"
   ]
  },
  {
   "cell_type": "code",
   "execution_count": 49,
   "id": "14259114-02c0-4f14-a755-30eda31cc686",
   "metadata": {},
   "outputs": [
    {
     "name": "stdout",
     "output_type": "stream",
     "text": [
      "bm_arr_1:\n",
      " [1 2 3 4]\n"
     ]
    },
    {
     "data": {
      "text/plain": [
       "array([6, 7, 8, 9])"
      ]
     },
     "execution_count": 49,
     "metadata": {},
     "output_type": "execute_result"
    }
   ],
   "source": [
    "#Basic math. +/-* (for example add some num to array)\n",
    "print(\"bm_arr_1:\\n\", bm_arr_1)\n",
    "np.add(bm_arr_1, 5)"
   ]
  },
  {
   "cell_type": "code",
   "execution_count": 50,
   "id": "2c4956df-863c-4805-b535-40ee8839f4bf",
   "metadata": {},
   "outputs": [
    {
     "name": "stdout",
     "output_type": "stream",
     "text": [
      "bm_arr_1:\n",
      " [1 2 3 4]\n",
      "bm_arr_2:\n",
      " [2 4 6 9]\n"
     ]
    },
    {
     "data": {
      "text/plain": [
       "array([ 3,  6,  9, 13])"
      ]
     },
     "execution_count": 50,
     "metadata": {},
     "output_type": "execute_result"
    }
   ],
   "source": [
    "#Basic math. +/-* (for example add arrays)\n",
    "print(\"bm_arr_1:\\n\", bm_arr_1)\n",
    "print(\"bm_arr_2:\\n\", bm_arr_2)\n",
    "np.add(bm_arr_1, bm_arr_2)"
   ]
  },
  {
   "cell_type": "code",
   "execution_count": 51,
   "id": "b90fc2e2-4cac-4f92-a5a7-228240ed8a97",
   "metadata": {},
   "outputs": [
    {
     "name": "stdout",
     "output_type": "stream",
     "text": [
      "bm_arr_1:\n",
      " [1 2 3 4]\n",
      "bm_arr_2:\n",
      " [2 4 6 9]\n"
     ]
    },
    {
     "data": {
      "text/plain": [
       "array([0, 0, 0, 1])"
      ]
     },
     "execution_count": 51,
     "metadata": {},
     "output_type": "execute_result"
    }
   ],
   "source": [
    "#Remainder (%) arr2 of arr1\n",
    "print(\"bm_arr_1:\\n\", bm_arr_1)\n",
    "print(\"bm_arr_2:\\n\", bm_arr_2)\n",
    "np.remainder(bm_arr_2, bm_arr_1)"
   ]
  },
  {
   "cell_type": "code",
   "execution_count": 52,
   "id": "8eab7133-f878-40a2-b3f3-fe557dde3b82",
   "metadata": {},
   "outputs": [
    {
     "name": "stdout",
     "output_type": "stream",
     "text": [
      "bm_arr_1:\n",
      " [1 2 3 4]\n",
      "bm_arr_2:\n",
      " [2 4 6 9]\n"
     ]
    },
    {
     "data": {
      "text/plain": [
       "array([   2,   16,  216, 6561])"
      ]
     },
     "execution_count": 52,
     "metadata": {},
     "output_type": "execute_result"
    }
   ],
   "source": [
    "#Power. get velue from arr2 and power by arr1 value\n",
    "print(\"bm_arr_1:\\n\", bm_arr_1)\n",
    "print(\"bm_arr_2:\\n\", bm_arr_2)\n",
    "np.power(bm_arr_2, bm_arr_1)"
   ]
  },
  {
   "cell_type": "code",
   "execution_count": 53,
   "id": "7799456a-ba16-4be2-8cd0-d2624396bf7b",
   "metadata": {},
   "outputs": [
    {
     "name": "stdout",
     "output_type": "stream",
     "text": [
      "bm_arr_4:\n",
      " [[2 4]\n",
      " [6 9]]\n"
     ]
    },
    {
     "data": {
      "text/plain": [
       "array([[1.25992105, 1.58740105],\n",
       "       [1.81712059, 2.08008382]])"
      ]
     },
     "execution_count": 53,
     "metadata": {},
     "output_type": "execute_result"
    }
   ],
   "source": [
    "#Sqrt | cbrt -> 3\n",
    "print(\"bm_arr_4:\\n\", bm_arr_4)\n",
    "np.cbrt(bm_arr_4)"
   ]
  },
  {
   "cell_type": "code",
   "execution_count": 54,
   "id": "366719a1-a876-4c94-852e-dcd7e07dba5e",
   "metadata": {},
   "outputs": [
    {
     "data": {
      "text/plain": [
       "array([1, 2, 3])"
      ]
     },
     "execution_count": 54,
     "metadata": {},
     "output_type": "execute_result"
    }
   ],
   "source": [
    "#Absolute values\n",
    "np.absolute([-1,-2,-3])"
   ]
  },
  {
   "cell_type": "code",
   "execution_count": 55,
   "id": "876a437a-af58-4027-b112-f951877e1a64",
   "metadata": {},
   "outputs": [],
   "source": [
    "#exp, log1..n [*]"
   ]
  },
  {
   "cell_type": "code",
   "execution_count": 56,
   "id": "34f67eb9-6a17-4a94-8964-64fa8986b015",
   "metadata": {},
   "outputs": [
    {
     "data": {
      "text/plain": [
       "3"
      ]
     },
     "execution_count": 56,
     "metadata": {},
     "output_type": "execute_result"
    }
   ],
   "source": [
    "#Lowest divided num\n",
    "np.gcd.reduce([9, 12, 15])"
   ]
  },
  {
   "cell_type": "code",
   "execution_count": 57,
   "id": "35a01ca0-a7ac-4a6b-873c-6f9c807fd792",
   "metadata": {},
   "outputs": [
    {
     "data": {
      "text/plain": [
       "180"
      ]
     },
     "execution_count": 57,
     "metadata": {},
     "output_type": "execute_result"
    }
   ],
   "source": [
    "#Least common multiple\n",
    "np.lcm.reduce([9, 12, 15])"
   ]
  },
  {
   "cell_type": "code",
   "execution_count": 58,
   "id": "3268e0db-9b4c-467b-84e4-71b4ba2a428c",
   "metadata": {},
   "outputs": [
    {
     "name": "stdout",
     "output_type": "stream",
     "text": [
      "bm_arr_5:\n",
      " [[6 8 9]\n",
      " [1 0 6]\n",
      " [8 2 9]\n",
      " [8 0 4]\n",
      " [5 8 9]]\n",
      "indexes: [2 0 0]\n"
     ]
    },
    {
     "data": {
      "text/plain": [
       "array([[8, 2, 9],\n",
       "       [6, 8, 9],\n",
       "       [6, 8, 9]])"
      ]
     },
     "execution_count": 58,
     "metadata": {},
     "output_type": "execute_result"
    }
   ],
   "source": [
    "#Max value per column [*]\n",
    "print(\"bm_arr_5:\\n\", bm_arr_5)\n",
    "mc_index = bm_arr_5.argmax(axis=0)\n",
    "max_nums = bm_arr_5[mc_index] #didn't work in that way. We can get right values from 2d arr\n",
    "print(\"indexes:\", mc_index)   #by putting the max indexes per column arr in arguments\n",
    "max_nums"
   ]
  },
  {
   "cell_type": "markdown",
   "id": "751cc167-48a5-4d6a-b033-cabde8ca3f2c",
   "metadata": {},
   "source": [
    "## Reading from Files"
   ]
  },
  {
   "cell_type": "code",
   "execution_count": 59,
   "id": "5f85eccb-56b8-4e12-97ef-3d8188dd67f3",
   "metadata": {},
   "outputs": [
    {
     "name": "stdout",
     "output_type": "stream",
     "text": [
      "[[ 37 292]\n",
      " [ 40 228]\n",
      " [ 49 324]\n",
      " [ 61 376]\n",
      " [ 72 440]\n",
      " [ 79 496]\n",
      " [ 83 536]\n",
      " [ 81 556]\n",
      " [ 75 496]\n",
      " [ 64 412]\n",
      " [ 53 324]\n",
      " [ 40 320]]\n"
     ]
    },
    {
     "data": {
      "text/plain": [
       "[array([], dtype=float64),\n",
       " array([ 37., 292.]),\n",
       " array([ 40., 228.]),\n",
       " array([ 49., 324.]),\n",
       " array([ 61., 376.]),\n",
       " array([ 72., 440.]),\n",
       " array([ 79., 496.]),\n",
       " array([ 83., 536.]),\n",
       " array([ 81., 556.]),\n",
       " array([ 75., 496.]),\n",
       " array([ 64., 412.]),\n",
       " array([ 53., 324.]),\n",
       " array([ 40., 320.])]"
      ]
     },
     "execution_count": 59,
     "metadata": {},
     "output_type": "execute_result"
    }
   ],
   "source": [
    "import pandas as pd\n",
    "from numpy import genfromtxt\n",
    "\n",
    "#Pandas way\n",
    "ic_sales = pd.read_csv('icecreamsales.csv').to_numpy()\n",
    "print(ic_sales)\n",
    "\n",
    "#Numpy way\n",
    "ic_sales_2 = genfromtxt('icecreamsales.csv', delimiter=',')\n",
    "ic_sales_2 = [row[~np.isnan(row)] for row in ic_sales_2]\n",
    "ic_sales_2"
   ]
  },
  {
   "cell_type": "markdown",
   "id": "35583ec3-a503-4e33-aeb2-da0eab01ee6a",
   "metadata": {},
   "source": [
    "## Statistics Functions"
   ]
  },
  {
   "cell_type": "code",
   "execution_count": 60,
   "id": "fb512668-e299-464f-8a52-fd62adc1b79c",
   "metadata": {},
   "outputs": [
    {
     "name": "stdout",
     "output_type": "stream",
     "text": [
      "[8 8 7 6 4 2 7 1]\n"
     ]
    },
    {
     "data": {
      "text/plain": [
       "6.484375"
      ]
     },
     "execution_count": 60,
     "metadata": {},
     "output_type": "execute_result"
    }
   ],
   "source": [
    "#Avrg funcs: \n",
    "#mean = sum of all elementss/number of all elements \n",
    "#median = central element in [sorted] array. In even array it will be the avarage between 2 central elements\n",
    "#average = allows the calculation of a weighted average by providing weights for each element of the array.If no weights - the same as mean\n",
    "#std = standard deviation [*]\n",
    "#var = variance [*]\n",
    "#s_arr_1 = np.arange(1,9)\n",
    "#s_arr_1 = np.random.randint(10, size=8)\n",
    "s_arr_1 = np.array([8, 8, 7, 6, 4, 2, 7, 1])\n",
    "print(s_arr_1)\n",
    "np.var(s_arr_1)"
   ]
  },
  {
   "cell_type": "code",
   "execution_count": 61,
   "id": "558f6f9c-4cc4-4462-9855-7a6d93541acf",
   "metadata": {},
   "outputs": [
    {
     "name": "stdout",
     "output_type": "stream",
     "text": [
      "ic_sales:\n",
      " [[ 37 292]\n",
      " [ 40 228]\n",
      " [ 49 324]\n",
      " [ 61 376]\n",
      " [ 72 440]\n",
      " [ 79 496]\n",
      " [ 83 536]\n",
      " [ 81 556]\n",
      " [ 75 496]\n",
      " [ 64 412]\n",
      " [ 53 324]\n",
      " [ 40 320]]\n"
     ]
    },
    {
     "data": {
      "text/plain": [
       "array([ 62.5, 394. ])"
      ]
     },
     "execution_count": 61,
     "metadata": {},
     "output_type": "execute_result"
    }
   ],
   "source": [
    "#The 50% similar to median. In 50% case we get the middle value.\n",
    "print(\"ic_sales:\\n\", ic_sales)\n",
    "\n",
    "np.percentile(ic_sales, 50, axis=0)"
   ]
  },
  {
   "cell_type": "code",
   "execution_count": 62,
   "id": "8a837141-efc2-4fdd-a535-a3067d7c7a7f",
   "metadata": {},
   "outputs": [
    {
     "data": {
      "text/plain": [
       "array([[1.        , 0.96181329],\n",
       "       [0.96181329, 1.        ]])"
      ]
     },
     "execution_count": 62,
     "metadata": {},
     "output_type": "execute_result"
    }
   ],
   "source": [
    "#Correlation between temperature (row1) and icecream sales (row2)\n",
    "np.corrcoef(ic_sales[:,0], ic_sales[:,1])"
   ]
  },
  {
   "cell_type": "markdown",
   "id": "b57c4129-527e-4b51-9199-36e1889156ac",
   "metadata": {},
   "source": [
    "## Trig Functions"
   ]
  },
  {
   "cell_type": "code",
   "execution_count": 63,
   "id": "8174bf24-f10c-4595-8632-b15457ae0b24",
   "metadata": {},
   "outputs": [
    {
     "data": {
      "text/plain": [
       "[<matplotlib.lines.Line2D at 0x7f20110b3610>]"
      ]
     },
     "execution_count": 63,
     "metadata": {},
     "output_type": "execute_result"
    },
    {
     "data": {
      "image/png": "[encoded data removed]",
      "text/plain": [
       "<Figure size 640x480 with 1 Axes>"
      ]
     },
     "metadata": {},
     "output_type": "display_data"
    }
   ],
   "source": [
    "#Sin, cos, tan\n",
    "t_arr = np.linspace(-np.pi, np.pi, 200)\n",
    "plt.plot(t_arr, np.tan(t_arr))\n",
    "\n",
    "# y = cos(x) x = arccos(y)\n",
    "\n",
    "#Also arctan2, sinh, cosh, tanh, arcsinh, arccosh, arctanh\n"
   ]
  },
  {
   "cell_type": "code",
   "execution_count": 64,
   "id": "c445c293-7572-4fad-824c-80e850748c7c",
   "metadata": {},
   "outputs": [
    {
     "data": {
      "text/plain": [
       "180.0"
      ]
     },
     "execution_count": 64,
     "metadata": {},
     "output_type": "execute_result"
    }
   ],
   "source": [
    "#Convert rad to deg also \n",
    "np.rad2deg(np.pi)"
   ]
  },
  {
   "cell_type": "code",
   "execution_count": 65,
   "id": "1bbbd635-fa62-4bd9-8a93-3505a476c621",
   "metadata": {},
   "outputs": [
    {
     "data": {
      "text/plain": [
       "3.141592653589793"
      ]
     },
     "execution_count": 65,
     "metadata": {},
     "output_type": "execute_result"
    }
   ],
   "source": [
    "#Convert deg to rad \n",
    "np.deg2rad(180)"
   ]
  },
  {
   "cell_type": "code",
   "execution_count": 66,
   "id": "a9f364a8-ecfe-418b-8b5f-2ae8faa3bf9b",
   "metadata": {},
   "outputs": [
    {
     "data": {
      "text/plain": [
       "14.142135623730951"
      ]
     },
     "execution_count": 66,
     "metadata": {},
     "output_type": "execute_result"
    }
   ],
   "source": [
    "# Hypotenuse c = sqrt(pow(w,2) + pow(h,2))\n",
    "np.hypot(10,10)"
   ]
  },
  {
   "cell_type": "markdown",
   "id": "61040cdc-7d3e-4734-93ff-81ff81fe31ff",
   "metadata": {},
   "source": [
    "## Linear Algebra Functions"
   ]
  },
  {
   "cell_type": "code",
   "execution_count": 96,
   "id": "2afa3fee-595f-45bf-badf-7f9aea42b63e",
   "metadata": {},
   "outputs": [],
   "source": [
    "from numpy import linalg as LA\n",
    "\n",
    "l_arr_1 = np.array([[1, 2], [3, 4]])\n",
    "l_arr_2 = np.array([[2, 4], [6, 9]])\n",
    "l_arr_3 = np.array([[5, 6], [7, 8]])\n",
    "\n",
    "l_arr_4 = np.array([[[1, 2], [3, 4]], [[5, 6], [7, 8]]])\n",
    "l_arr_5 = np.array([[1, 2], [3, 4]], dtype=object)\n",
    "\n",
    "l_arr_6 = np.array([0, 2])\n",
    "l_arr_7 = np.array([[0, 1, 2, 3], [4, 5, 6, 7]])"
   ]
  },
  {
   "cell_type": "code",
   "execution_count": 68,
   "id": "1e6f7a4b-3019-4e1c-a010-22762b55e757",
   "metadata": {},
   "outputs": [
    {
     "name": "stdout",
     "output_type": "stream",
     "text": [
      "l_arr_1:\n",
      " [[1 2]\n",
      " [3 4]]\n",
      "l_arr_2:\n",
      " [[2 4]\n",
      " [6 9]]\n"
     ]
    },
    {
     "data": {
      "text/plain": [
       "array([[14, 22],\n",
       "       [30, 48]], dtype=object)"
      ]
     },
     "execution_count": 68,
     "metadata": {},
     "output_type": "execute_result"
    }
   ],
   "source": [
    "#Matrix multiplication\n",
    "print(\"l_arr_1:\\n\", l_arr_1)\n",
    "print(\"l_arr_2:\\n\", l_arr_2)\n",
    "np.dot(l_arr_1, l_arr_2)"
   ]
  },
  {
   "cell_type": "code",
   "execution_count": 69,
   "id": "6ad7f536-e00d-4afc-8057-08c4372b46eb",
   "metadata": {},
   "outputs": [
    {
     "data": {
      "text/plain": [
       "array([[224, 260],\n",
       "       [486, 564]], dtype=object)"
      ]
     },
     "execution_count": 69,
     "metadata": {},
     "output_type": "execute_result"
    }
   ],
   "source": [
    "#Matrix multiplication in more than 2 arrays\n",
    "LA.multi_dot([l_arr_1, l_arr_2, l_arr_3] ) "
   ]
  },
  {
   "cell_type": "code",
   "execution_count": 70,
   "id": "5830d6fd-44ea-4fa3-a561-5bba776fbb77",
   "metadata": {},
   "outputs": [
    {
     "data": {
      "text/plain": [
       "array([[10, 24],\n",
       "       [22, 54]], dtype=object)"
      ]
     },
     "execution_count": 70,
     "metadata": {},
     "output_type": "execute_result"
    }
   ],
   "source": [
    "#Inner product\n",
    "np.inner(l_arr_1, l_arr_2)"
   ]
  },
  {
   "cell_type": "code",
   "execution_count": 77,
   "id": "b7140cd7-a50b-47c4-ade2-88e42e92c2ca",
   "metadata": {},
   "outputs": [
    {
     "name": "stdout",
     "output_type": "stream",
     "text": [
      "l_arr_4:\n",
      " [[[1 2]\n",
      "  [3 4]]\n",
      "\n",
      " [[5 6]\n",
      "  [7 8]]]\n",
      "l_arr_5:\n",
      " [[1 2]\n",
      " [3 4]]\n"
     ]
    },
    {
     "data": {
      "text/plain": [
       "array([30, 70], dtype=object)"
      ]
     },
     "execution_count": 77,
     "metadata": {},
     "output_type": "execute_result"
    }
   ],
   "source": [
    "#Tensor dot product\n",
    "print(\"l_arr_4:\\n\", l_arr_4)\n",
    "print(\"l_arr_5:\\n\", l_arr_5)\n",
    "np.tensordot(l_arr_4, l_arr_5)"
   ]
  },
  {
   "cell_type": "code",
   "execution_count": 84,
   "id": "0e9ea730-b9a9-489a-a953-1a58c98c6014",
   "metadata": {},
   "outputs": [
    {
     "name": "stdout",
     "output_type": "stream",
     "text": [
      "l_arr_6:\n",
      " [0 2]\n",
      "l_arr_7:\n",
      " [[0 1 2 3]\n",
      " [4 5 6 7]]\n"
     ]
    },
    {
     "data": {
      "text/plain": [
       "array([ 0, 44])"
      ]
     },
     "execution_count": 84,
     "metadata": {},
     "output_type": "execute_result"
    }
   ],
   "source": [
    "#Enstein Summation\n",
    "# i,ij->i = sum(arr1_i * arr2_i),sum(arr1_i * arr_2_j)\n",
    "print(\"l_arr_6:\\n\", l_arr_6)\n",
    "print(\"l_arr_7:\\n\", l_arr_7)\n",
    "np.einsum('i,ij->i', l_arr_6, l_arr_7)"
   ]
  },
  {
   "cell_type": "code",
   "execution_count": 91,
   "id": "63a31dda-b6a1-4170-8430-6b21c5860707",
   "metadata": {},
   "outputs": [
    {
     "name": "stdout",
     "output_type": "stream",
     "text": [
      "l_arr_6:\n",
      " [0 2]\n",
      "l_arr_7:\n",
      " [[0 1 2 3]\n",
      " [4 5 6 7]]\n",
      "2\n"
     ]
    },
    {
     "data": {
      "text/plain": [
       "28"
      ]
     },
     "execution_count": 91,
     "metadata": {},
     "output_type": "execute_result"
    }
   ],
   "source": [
    "#Enstein Summation. Sum of an array and md array\n",
    "print(\"l_arr_6:\\n\", l_arr_6)\n",
    "print(\"l_arr_7:\\n\", l_arr_7)\n",
    "print(np.einsum('i->', l_arr_6))\n",
    "np.einsum('ij->', l_arr_7)"
   ]
  },
  {
   "cell_type": "code",
   "execution_count": 97,
   "id": "de136dcb-6092-4d9e-84dd-3ff140c16463",
   "metadata": {},
   "outputs": [
    {
     "name": "stdout",
     "output_type": "stream",
     "text": [
      "l_arr_1:\n",
      " [[1 2]\n",
      " [3 4]]\n",
      "l_arr_2:\n",
      " [[2 4]\n",
      " [6 9]]\n"
     ]
    },
    {
     "data": {
      "text/plain": [
       "64"
      ]
     },
     "execution_count": 97,
     "metadata": {},
     "output_type": "execute_result"
    }
   ],
   "source": [
    "#Enstein Summation. Dot product\n",
    "print(\"l_arr_1:\\n\", l_arr_1)\n",
    "print(\"l_arr_2:\\n\", l_arr_2)\n",
    "np.einsum('i,i->', l_arr_1.flatten(), l_arr_2.flatten())"
   ]
  },
  {
   "cell_type": "code",
   "execution_count": 99,
   "id": "8449a1b3-3311-449d-b3a9-382ad4ecd766",
   "metadata": {},
   "outputs": [
    {
     "name": "stdout",
     "output_type": "stream",
     "text": [
      "l_arr_1:\n",
      " [[1 2]\n",
      " [3 4]]\n",
      "l_arr_2:\n",
      " [[2 4]\n",
      " [6 9]]\n"
     ]
    },
    {
     "data": {
      "text/plain": [
       "114"
      ]
     },
     "execution_count": 99,
     "metadata": {},
     "output_type": "execute_result"
    }
   ],
   "source": [
    "#Enstein Summation. Matrix multiplication and summing the result matrix\n",
    "print(\"l_arr_1:\\n\", l_arr_1)\n",
    "print(\"l_arr_2:\\n\", l_arr_2)\n",
    "np.einsum('ij,jk->', l_arr_1, l_arr_2)"
   ]
  },
  {
   "cell_type": "code",
   "execution_count": 102,
   "id": "95ab4618-2b94-4b19-956f-4aaefd8ea826",
   "metadata": {},
   "outputs": [
    {
     "name": "stdout",
     "output_type": "stream",
     "text": [
      "l_arr_2:\n",
      " [[2 4]\n",
      " [6 9]]\n"
     ]
    },
    {
     "data": {
      "text/plain": [
       "11"
      ]
     },
     "execution_count": 102,
     "metadata": {},
     "output_type": "execute_result"
    }
   ],
   "source": [
    "#Enstein Summation. Get diagonal\n",
    "print(\"l_arr_2:\\n\", l_arr_2)\n",
    "np.einsum('ii->', l_arr_2)"
   ]
  },
  {
   "cell_type": "code",
   "execution_count": 106,
   "id": "60c351a3-7858-47db-b309-6d6f4ea0daf8",
   "metadata": {},
   "outputs": [
    {
     "name": "stdout",
     "output_type": "stream",
     "text": [
      "l_arr_1:\n",
      " [[1 2]\n",
      " [3 4]]\n"
     ]
    },
    {
     "data": {
      "text/plain": [
       "array([[1, 3],\n",
       "       [2, 4]])"
      ]
     },
     "execution_count": 106,
     "metadata": {},
     "output_type": "execute_result"
    }
   ],
   "source": [
    "#Enstein Summation. Transpose [*]\n",
    "print(\"l_arr_1:\\n\", l_arr_1)\n",
    "np.einsum('ij->ji', l_arr_1)"
   ]
  },
  {
   "cell_type": "code",
   "execution_count": 108,
   "id": "b9314119-260e-47a5-b0e8-29d344e22d92",
   "metadata": {},
   "outputs": [
    {
     "name": "stdout",
     "output_type": "stream",
     "text": [
      "l_arr_1:\n",
      " [[1 2]\n",
      " [3 4]]\n"
     ]
    },
    {
     "data": {
      "text/plain": [
       "array([[ 7, 10],\n",
       "       [15, 22]])"
      ]
     },
     "execution_count": 108,
     "metadata": {},
     "output_type": "execute_result"
    }
   ],
   "source": [
    "#Raise matrix to the power of n\n",
    "print(\"l_arr_1:\\n\", l_arr_1)\n",
    "LA.matrix_power(l_arr_1, 2)"
   ]
  },
  {
   "cell_type": "code",
   "execution_count": 110,
   "id": "3c08d626-e6cf-4372-9484-dd43a701c714",
   "metadata": {},
   "outputs": [
    {
     "data": {
      "text/plain": [
       "array([[ 2,  4,  4,  8],\n",
       "       [ 6,  9, 12, 18],\n",
       "       [ 6, 12,  8, 16],\n",
       "       [18, 27, 24, 36]])"
      ]
     },
     "execution_count": 110,
     "metadata": {},
     "output_type": "execute_result"
    }
   ],
   "source": [
    "#Kronecker product of 2 arrays\n",
    "np.kron(l_arr_1, l_arr_2)"
   ]
  },
  {
   "cell_type": "code",
   "execution_count": 114,
   "id": "ea2e25c1-a70c-4c17-9f8b-9f2764bea0a9",
   "metadata": {},
   "outputs": [
    {
     "data": {
      "text/plain": [
       "EigResult(eigenvalues=array([-0.37228132,  5.37228132]), eigenvectors=array([[-0.82456484, -0.41597356],\n",
       "       [ 0.56576746, -0.90937671]]))"
      ]
     },
     "execution_count": 114,
     "metadata": {},
     "output_type": "execute_result"
    }
   ],
   "source": [
    "#Compute eigenvectors\n",
    "LA.eig(l_arr_1)"
   ]
  },
  {
   "cell_type": "code",
   "execution_count": 115,
   "id": "b4ceadb5-48c3-45b7-9eb1-9b9c2d9f0d3d",
   "metadata": {},
   "outputs": [
    {
     "data": {
      "text/plain": [
       "array([-0.37228132,  5.37228132])"
      ]
     },
     "execution_count": 115,
     "metadata": {},
     "output_type": "execute_result"
    }
   ],
   "source": [
    "#Compute eigenvalues\n",
    "LA.eigvals(l_arr_1)"
   ]
  },
  {
   "cell_type": "code",
   "execution_count": 116,
   "id": "e264c635-cfef-48f6-a69c-e8dfaded424d",
   "metadata": {},
   "outputs": [
    {
     "data": {
      "text/plain": [
       "5.477225575051661"
      ]
     },
     "execution_count": 116,
     "metadata": {},
     "output_type": "execute_result"
    }
   ],
   "source": [
    "#Get Vector Norn sqrt(sum(x**2))\n",
    "LA.norm(l_arr_1)"
   ]
  },
  {
   "cell_type": "code",
   "execution_count": 117,
   "id": "ec462890-be9f-4bcb-b941-b0b05580cf54",
   "metadata": {},
   "outputs": [
    {
     "name": "stdout",
     "output_type": "stream",
     "text": [
      "l_arr_1:\n",
      " [[1 2]\n",
      " [3 4]]\n"
     ]
    },
    {
     "data": {
      "text/plain": [
       "array([[-2. ,  1. ],\n",
       "       [ 1.5, -0.5]])"
      ]
     },
     "execution_count": 117,
     "metadata": {},
     "output_type": "execute_result"
    }
   ],
   "source": [
    "#Get Multiplicative Inverse of a matrix\n",
    "print(\"l_arr_1:\\n\", l_arr_1)\n",
    "LA.inv(l_arr_1)"
   ]
  },
  {
   "cell_type": "code",
   "execution_count": 118,
   "id": "bcd18223-8bcb-4564-9073-d53f11e27619",
   "metadata": {},
   "outputs": [
    {
     "data": {
      "text/plain": [
       "14.933034373659268"
      ]
     },
     "execution_count": 118,
     "metadata": {},
     "output_type": "execute_result"
    }
   ],
   "source": [
    "#Get Condition number of matrix\n",
    "LA.cond(l_arr_1)"
   ]
  },
  {
   "cell_type": "code",
   "execution_count": 120,
   "id": "664493a2-fa33-4f2f-924b-bd61fdf89248",
   "metadata": {},
   "outputs": [
    {
     "name": "stdout",
     "output_type": "stream",
     "text": [
      "l_arr_1:\n",
      " [[1 2]\n",
      " [3 4]]\n"
     ]
    },
    {
     "data": {
      "text/plain": [
       "-2.0000000000000004"
      ]
     },
     "execution_count": 120,
     "metadata": {},
     "output_type": "execute_result"
    }
   ],
   "source": [
    "#Determinate\n",
    "print(\"l_arr_1:\\n\", l_arr_1)\n",
    "LA.det(l_arr_1)"
   ]
  },
  {
   "cell_type": "code",
   "execution_count": 121,
   "id": "1242f7d2-20fa-4b88-b8ef-5fd3b99526b7",
   "metadata": {},
   "outputs": [
    {
     "data": {
      "text/plain": [
       "array([[1.0000000e+00, 0.0000000e+00],\n",
       "       [8.8817842e-16, 1.0000000e+00]])"
      ]
     },
     "execution_count": 121,
     "metadata": {},
     "output_type": "execute_result"
    }
   ],
   "source": [
    "#Determinate 3x3 Matrix\n",
    "l_arr_1_i = LA.inv(l_arr_1)\n",
    "l_arr_1_i\n",
    "np.dot(l_arr_1, l_arr_1_i)"
   ]
  },
  {
   "cell_type": "code",
   "execution_count": 122,
   "id": "57aa4afe-22fb-4057-bd8f-60b46fa83a46",
   "metadata": {},
   "outputs": [
    {
     "data": {
      "text/plain": [
       "array([-2.,  3.])"
      ]
     },
     "execution_count": 122,
     "metadata": {},
     "output_type": "execute_result"
    }
   ],
   "source": [
    "# Solving Systems of Linear Equations\n",
    "# If you have 3x + 5 = 9x -> 5 = 6x -> x = 5/6\n",
    "# If you have x + 4y = 10 & 6x + 18y = 42\n",
    "# Isolate x -> x = 10 - 4y\n",
    "# 6(10 - 4y) + 18y = 42 -> 60 - 24y + 18y = 42 - > -6y = -18 -> y = 3\n",
    "# x + 4*3 = 10 -> x = -2\n",
    "l_arr_8 = np.array([[1, 4], [6, 18]])\n",
    "l_arr_9 = np.array([10, 42])\n",
    "# Solve will solve this for you as well\n",
    "LA.solve(l_arr_8, l_arr_9)"
   ]
  },
  {
   "cell_type": "code",
   "execution_count": 14,
   "id": "2107c926-aed7-4f64-b251-819842ec5150",
   "metadata": {},
   "outputs": [
    {
     "data": {
      "text/plain": [
       "array([[1, 0, 0, 0],\n",
       "       [0, 1, 0, 0],\n",
       "       [0, 0, 1, 0],\n",
       "       [0, 0, 0, 1]])"
      ]
     },
     "execution_count": 14,
     "metadata": {},
     "output_type": "execute_result"
    }
   ],
   "source": [
    "# Return a identity matrix with defined number of rows and columns\n",
    "np.eye(4, 4, dtype=int)"
   ]
  },
  {
   "cell_type": "code",
   "execution_count": null,
   "id": "1176d890-ceeb-49a2-ae07-7ad1ea15fa20",
   "metadata": {},
   "outputs": [],
   "source": []
  }
 ],
 "metadata": {
  "kernelspec": {
   "display_name": "Python 3 (ipykernel)",
   "language": "python",
   "name": "python3"
  },
  "language_info": {
   "codemirror_mode": {
    "name": "ipython",
    "version": 3
   },
   "file_extension": ".py",
   "mimetype": "text/x-python",
   "name": "python",
   "nbconvert_exporter": "python",
   "pygments_lexer": "ipython3",
   "version": "3.11.5"
  }
 },
 "nbformat": 4,
 "nbformat_minor": 5
}
